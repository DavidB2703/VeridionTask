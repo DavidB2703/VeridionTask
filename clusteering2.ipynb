{
 "cells": [
  {
   "cell_type": "code",
   "id": "initial_id",
   "metadata": {
    "collapsed": true,
    "ExecuteTime": {
     "end_time": "2025-10-14T19:34:17.563920Z",
     "start_time": "2025-10-14T19:34:15.698852Z"
    }
   },
   "source": "",
   "outputs": [],
   "execution_count": 2
  },
  {
   "metadata": {
    "ExecuteTime": {
     "end_time": "2025-10-14T19:35:18.131450Z",
     "start_time": "2025-10-14T19:35:18.094525Z"
    }
   },
   "cell_type": "code",
   "source": [
    "# load company_features.npy\n",
    "company_features = np.load('company_features.npy')\n",
    "print(company_features.shape)"
   ],
   "id": "10a17b5de6d4bd9",
   "outputs": [
    {
     "name": "stdout",
     "output_type": "stream",
     "text": [
      "(9492, 768)\n"
     ]
    }
   ],
   "execution_count": 6
  },
  {
   "metadata": {
    "ExecuteTime": {
     "end_time": "2025-10-14T20:03:45.938930Z",
     "start_time": "2025-10-14T20:02:48.671486Z"
    }
   },
   "cell_type": "code",
   "source": [
    "from umap import UMAP\n",
    "from sklearn.cluster import HDBSCAN\n",
    "\n",
    "\n",
    "umap = UMAP(n_neighbors=30, n_components=30, metric='cosine', random_state=42)\n",
    "X_umap = umap.fit_transform(company_features)\n",
    "\n",
    "clusterer = HDBSCAN(min_cluster_size=10, metric='euclidean')\n",
    "labels = clusterer.fit_predict(X_umap)\n"
   ],
   "id": "f1587ef2bfa11efb",
   "outputs": [
    {
     "name": "stderr",
     "output_type": "stream",
     "text": [
      "C:\\Users\\david\\AppData\\Local\\Programs\\Python\\Python313\\Lib\\site-packages\\tqdm\\auto.py:21: TqdmWarning: IProgress not found. Please update jupyter and ipywidgets. See https://ipywidgets.readthedocs.io/en/stable/user_install.html\n",
      "  from .autonotebook import tqdm as notebook_tqdm\n",
      "C:\\Users\\david\\AppData\\Local\\Programs\\Python\\Python313\\Lib\\site-packages\\umap\\umap_.py:1952: UserWarning: n_jobs value 1 overridden to 1 by setting random_state. Use no seed for parallelism.\n",
      "  warn(\n"
     ]
    }
   ],
   "execution_count": 11
  },
  {
   "metadata": {
    "ExecuteTime": {
     "end_time": "2025-10-14T20:04:13.332098Z",
     "start_time": "2025-10-14T20:04:13.326394Z"
    }
   },
   "cell_type": "code",
   "source": "labels",
   "id": "23d45a7fe96b8ce4",
   "outputs": [
    {
     "data": {
      "text/plain": [
       "array([-1, 20, -1, ..., 20, -1, -1], shape=(9492,))"
      ]
     },
     "execution_count": 12,
     "metadata": {},
     "output_type": "execute_result"
    }
   ],
   "execution_count": 12
  },
  {
   "metadata": {
    "ExecuteTime": {
     "end_time": "2025-10-14T20:04:19.688846Z",
     "start_time": "2025-10-14T20:04:19.685310Z"
    }
   },
   "cell_type": "code",
   "source": [
    "# verificam cate clustere avem\n",
    "unique, counts = np.unique(labels, return_counts=True)\n",
    "cluster_counts = dict(zip(unique, counts))\n",
    "print(cluster_counts)"
   ],
   "id": "bd5630be70f7e7e6",
   "outputs": [
    {
     "name": "stdout",
     "output_type": "stream",
     "text": [
      "{np.int64(-1): np.int64(4805), np.int64(0): np.int64(40), np.int64(1): np.int64(36), np.int64(2): np.int64(34), np.int64(3): np.int64(23), np.int64(4): np.int64(14), np.int64(5): np.int64(12), np.int64(6): np.int64(38), np.int64(7): np.int64(20), np.int64(8): np.int64(26), np.int64(9): np.int64(18), np.int64(10): np.int64(39), np.int64(11): np.int64(11), np.int64(12): np.int64(19), np.int64(13): np.int64(17), np.int64(14): np.int64(21), np.int64(15): np.int64(11), np.int64(16): np.int64(17), np.int64(17): np.int64(37), np.int64(18): np.int64(42), np.int64(19): np.int64(18), np.int64(20): np.int64(955), np.int64(21): np.int64(50), np.int64(22): np.int64(29), np.int64(23): np.int64(37), np.int64(24): np.int64(27), np.int64(25): np.int64(27), np.int64(26): np.int64(54), np.int64(27): np.int64(34), np.int64(28): np.int64(25), np.int64(29): np.int64(48), np.int64(30): np.int64(47), np.int64(31): np.int64(12), np.int64(32): np.int64(27), np.int64(33): np.int64(20), np.int64(34): np.int64(37), np.int64(35): np.int64(12), np.int64(36): np.int64(16), np.int64(37): np.int64(14), np.int64(38): np.int64(55), np.int64(39): np.int64(11), np.int64(40): np.int64(14), np.int64(41): np.int64(195), np.int64(42): np.int64(22), np.int64(43): np.int64(12), np.int64(44): np.int64(82), np.int64(45): np.int64(74), np.int64(46): np.int64(17), np.int64(47): np.int64(73), np.int64(48): np.int64(21), np.int64(49): np.int64(667), np.int64(50): np.int64(36), np.int64(51): np.int64(25), np.int64(52): np.int64(21), np.int64(53): np.int64(59), np.int64(54): np.int64(44), np.int64(55): np.int64(53), np.int64(56): np.int64(34), np.int64(57): np.int64(22), np.int64(58): np.int64(16), np.int64(59): np.int64(27), np.int64(60): np.int64(23), np.int64(61): np.int64(27), np.int64(62): np.int64(48), np.int64(63): np.int64(13), np.int64(64): np.int64(33), np.int64(65): np.int64(27), np.int64(66): np.int64(11), np.int64(67): np.int64(27), np.int64(68): np.int64(32), np.int64(69): np.int64(105), np.int64(70): np.int64(50), np.int64(71): np.int64(30), np.int64(72): np.int64(86), np.int64(73): np.int64(12), np.int64(74): np.int64(26), np.int64(75): np.int64(59), np.int64(76): np.int64(19), np.int64(77): np.int64(30), np.int64(78): np.int64(12), np.int64(79): np.int64(20), np.int64(80): np.int64(36), np.int64(81): np.int64(57), np.int64(82): np.int64(21), np.int64(83): np.int64(12), np.int64(84): np.int64(11), np.int64(85): np.int64(54), np.int64(86): np.int64(26), np.int64(87): np.int64(11), np.int64(88): np.int64(15), np.int64(89): np.int64(21), np.int64(90): np.int64(26), np.int64(91): np.int64(19), np.int64(92): np.int64(53), np.int64(93): np.int64(45), np.int64(94): np.int64(25), np.int64(95): np.int64(21)}\n"
     ]
    }
   ],
   "execution_count": 13
  }
 ],
 "metadata": {
  "kernelspec": {
   "display_name": "Python 3",
   "language": "python",
   "name": "python3"
  },
  "language_info": {
   "codemirror_mode": {
    "name": "ipython",
    "version": 2
   },
   "file_extension": ".py",
   "mimetype": "text/x-python",
   "name": "python",
   "nbconvert_exporter": "python",
   "pygments_lexer": "ipython2",
   "version": "2.7.6"
  }
 },
 "nbformat": 4,
 "nbformat_minor": 5
}
