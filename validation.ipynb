{
 "cells": [
  {
   "cell_type": "code",
   "id": "initial_id",
   "metadata": {
    "collapsed": true,
    "ExecuteTime": {
     "end_time": "2025-10-16T12:43:16.625782Z",
     "start_time": "2025-10-16T12:43:16.141925Z"
    }
   },
   "source": "import pandas as pd",
   "outputs": [],
   "execution_count": 1
  },
  {
   "metadata": {
    "ExecuteTime": {
     "end_time": "2025-10-16T12:43:58.035295Z",
     "start_time": "2025-10-16T12:43:58.025186Z"
    }
   },
   "cell_type": "code",
   "source": [
    "gt = pd.read_csv('data/handmade_gt_10.csv')\n",
    "predictions = pd.read_csv('data/predictions_emb_zs.csv')\n",
    "print(gt.shape)\n",
    "print(predictions.shape)"
   ],
   "id": "dee8c867e991e55c",
   "outputs": [
    {
     "name": "stdout",
     "output_type": "stream",
     "text": [
      "(10, 2)\n",
      "(10, 2)\n"
     ]
    }
   ],
   "execution_count": 2
  },
  {
   "metadata": {
    "ExecuteTime": {
     "end_time": "2025-10-16T13:12:49.670714Z",
     "start_time": "2025-10-16T13:12:49.667764Z"
    }
   },
   "cell_type": "code",
   "source": [
    "positions_value = {\n",
    "    0: 3,\n",
    "    1: 2,\n",
    "    2: 1\n",
    "}"
   ],
   "id": "82336abe27dc4bbe",
   "outputs": [],
   "execution_count": 62
  },
  {
   "metadata": {
    "ExecuteTime": {
     "end_time": "2025-10-16T12:44:58.067157Z",
     "start_time": "2025-10-16T12:44:58.056801Z"
    }
   },
   "cell_type": "code",
   "source": "gt",
   "id": "e653b44d66cec101",
   "outputs": [
    {
     "data": {
      "text/plain": [
       "   index                                             labels\n",
       "0   4335  ['Residential Roofing Services', 'Roofing Serv...\n",
       "1   7910  ['Accessory Manufacturing', 'Apparel Manufactu...\n",
       "2   7758  ['Testing and Inspection Services', 'Building ...\n",
       "3   3050  ['Laboratory Services', 'Health Promotion Serv...\n",
       "4   2614  ['Meat Processing Services', 'Food Processing ...\n",
       "5   4382  ['Property Management Services', 'Real Estate ...\n",
       "6   2676  ['Human Resources Services', 'Management Consu...\n",
       "7   5599  ['Physical Therapy Services', 'Health Promotio...\n",
       "8    164  ['Ornamental Plant Nurseries', 'Agricultural E...\n",
       "9   3263  ['Health Promotion Services', 'Physical Therap..."
      ],
      "text/html": [
       "<div>\n",
       "<style scoped>\n",
       "    .dataframe tbody tr th:only-of-type {\n",
       "        vertical-align: middle;\n",
       "    }\n",
       "\n",
       "    .dataframe tbody tr th {\n",
       "        vertical-align: top;\n",
       "    }\n",
       "\n",
       "    .dataframe thead th {\n",
       "        text-align: right;\n",
       "    }\n",
       "</style>\n",
       "<table border=\"1\" class=\"dataframe\">\n",
       "  <thead>\n",
       "    <tr style=\"text-align: right;\">\n",
       "      <th></th>\n",
       "      <th>index</th>\n",
       "      <th>labels</th>\n",
       "    </tr>\n",
       "  </thead>\n",
       "  <tbody>\n",
       "    <tr>\n",
       "      <th>0</th>\n",
       "      <td>4335</td>\n",
       "      <td>['Residential Roofing Services', 'Roofing Serv...</td>\n",
       "    </tr>\n",
       "    <tr>\n",
       "      <th>1</th>\n",
       "      <td>7910</td>\n",
       "      <td>['Accessory Manufacturing', 'Apparel Manufactu...</td>\n",
       "    </tr>\n",
       "    <tr>\n",
       "      <th>2</th>\n",
       "      <td>7758</td>\n",
       "      <td>['Testing and Inspection Services', 'Building ...</td>\n",
       "    </tr>\n",
       "    <tr>\n",
       "      <th>3</th>\n",
       "      <td>3050</td>\n",
       "      <td>['Laboratory Services', 'Health Promotion Serv...</td>\n",
       "    </tr>\n",
       "    <tr>\n",
       "      <th>4</th>\n",
       "      <td>2614</td>\n",
       "      <td>['Meat Processing Services', 'Food Processing ...</td>\n",
       "    </tr>\n",
       "    <tr>\n",
       "      <th>5</th>\n",
       "      <td>4382</td>\n",
       "      <td>['Property Management Services', 'Real Estate ...</td>\n",
       "    </tr>\n",
       "    <tr>\n",
       "      <th>6</th>\n",
       "      <td>2676</td>\n",
       "      <td>['Human Resources Services', 'Management Consu...</td>\n",
       "    </tr>\n",
       "    <tr>\n",
       "      <th>7</th>\n",
       "      <td>5599</td>\n",
       "      <td>['Physical Therapy Services', 'Health Promotio...</td>\n",
       "    </tr>\n",
       "    <tr>\n",
       "      <th>8</th>\n",
       "      <td>164</td>\n",
       "      <td>['Ornamental Plant Nurseries', 'Agricultural E...</td>\n",
       "    </tr>\n",
       "    <tr>\n",
       "      <th>9</th>\n",
       "      <td>3263</td>\n",
       "      <td>['Health Promotion Services', 'Physical Therap...</td>\n",
       "    </tr>\n",
       "  </tbody>\n",
       "</table>\n",
       "</div>"
      ]
     },
     "execution_count": 4,
     "metadata": {},
     "output_type": "execute_result"
    }
   ],
   "execution_count": 4
  },
  {
   "metadata": {
    "ExecuteTime": {
     "end_time": "2025-10-16T12:45:09.684500Z",
     "start_time": "2025-10-16T12:45:09.677817Z"
    }
   },
   "cell_type": "code",
   "source": "predictions",
   "id": "f8432a049cabd9e4",
   "outputs": [
    {
     "data": {
      "text/plain": [
       "   index                                          predicted\n",
       "0   4335  ['Residential Roofing Services', 'Roofing Serv...\n",
       "1   7910  ['Accessory Manufacturing', 'Bedding Manufactu...\n",
       "2   7758  ['Real Estate Services', 'Testing and Inspecti...\n",
       "3   3050  ['Laboratory Services', 'Health Promotion Serv...\n",
       "4   2614  ['Meat Processing Services', 'Frozen Food Proc...\n",
       "5   4382  ['Property Management Services', 'Real Estate ...\n",
       "6   2676  ['Human Resources Services', 'Consulting Servi...\n",
       "7   5599  ['SEO Services', 'Physical Therapy Services', ...\n",
       "8    164  ['Agricultural Equipment Services', 'Soil Nutr...\n",
       "9   3263  ['Physical Therapy Services', 'Pharmaceutical ..."
      ],
      "text/html": [
       "<div>\n",
       "<style scoped>\n",
       "    .dataframe tbody tr th:only-of-type {\n",
       "        vertical-align: middle;\n",
       "    }\n",
       "\n",
       "    .dataframe tbody tr th {\n",
       "        vertical-align: top;\n",
       "    }\n",
       "\n",
       "    .dataframe thead th {\n",
       "        text-align: right;\n",
       "    }\n",
       "</style>\n",
       "<table border=\"1\" class=\"dataframe\">\n",
       "  <thead>\n",
       "    <tr style=\"text-align: right;\">\n",
       "      <th></th>\n",
       "      <th>index</th>\n",
       "      <th>predicted</th>\n",
       "    </tr>\n",
       "  </thead>\n",
       "  <tbody>\n",
       "    <tr>\n",
       "      <th>0</th>\n",
       "      <td>4335</td>\n",
       "      <td>['Residential Roofing Services', 'Roofing Serv...</td>\n",
       "    </tr>\n",
       "    <tr>\n",
       "      <th>1</th>\n",
       "      <td>7910</td>\n",
       "      <td>['Accessory Manufacturing', 'Bedding Manufactu...</td>\n",
       "    </tr>\n",
       "    <tr>\n",
       "      <th>2</th>\n",
       "      <td>7758</td>\n",
       "      <td>['Real Estate Services', 'Testing and Inspecti...</td>\n",
       "    </tr>\n",
       "    <tr>\n",
       "      <th>3</th>\n",
       "      <td>3050</td>\n",
       "      <td>['Laboratory Services', 'Health Promotion Serv...</td>\n",
       "    </tr>\n",
       "    <tr>\n",
       "      <th>4</th>\n",
       "      <td>2614</td>\n",
       "      <td>['Meat Processing Services', 'Frozen Food Proc...</td>\n",
       "    </tr>\n",
       "    <tr>\n",
       "      <th>5</th>\n",
       "      <td>4382</td>\n",
       "      <td>['Property Management Services', 'Real Estate ...</td>\n",
       "    </tr>\n",
       "    <tr>\n",
       "      <th>6</th>\n",
       "      <td>2676</td>\n",
       "      <td>['Human Resources Services', 'Consulting Servi...</td>\n",
       "    </tr>\n",
       "    <tr>\n",
       "      <th>7</th>\n",
       "      <td>5599</td>\n",
       "      <td>['SEO Services', 'Physical Therapy Services', ...</td>\n",
       "    </tr>\n",
       "    <tr>\n",
       "      <th>8</th>\n",
       "      <td>164</td>\n",
       "      <td>['Agricultural Equipment Services', 'Soil Nutr...</td>\n",
       "    </tr>\n",
       "    <tr>\n",
       "      <th>9</th>\n",
       "      <td>3263</td>\n",
       "      <td>['Physical Therapy Services', 'Pharmaceutical ...</td>\n",
       "    </tr>\n",
       "  </tbody>\n",
       "</table>\n",
       "</div>"
      ]
     },
     "execution_count": 5,
     "metadata": {},
     "output_type": "execute_result"
    }
   ],
   "execution_count": 5
  },
  {
   "metadata": {
    "ExecuteTime": {
     "end_time": "2025-10-16T12:45:53.397862Z",
     "start_time": "2025-10-16T12:45:53.394534Z"
    }
   },
   "cell_type": "code",
   "source": [
    "# verificam dacă toate index-urile din gt sunt în predictions\n",
    "for index in gt['index']:\n",
    "    if index not in predictions['index'].values:\n",
    "        print(f\"Index {index} not found in predictions\")"
   ],
   "id": "8944f89a193cc006",
   "outputs": [],
   "execution_count": 7
  },
  {
   "metadata": {
    "ExecuteTime": {
     "end_time": "2025-10-16T12:46:36.839372Z",
     "start_time": "2025-10-16T12:46:36.836551Z"
    }
   },
   "cell_type": "code",
   "source": [
    "y = gt['labels']\n",
    "y_pred = predictions['predicted']"
   ],
   "id": "ac2f47dadb04ed01",
   "outputs": [],
   "execution_count": 8
  },
  {
   "metadata": {
    "ExecuteTime": {
     "end_time": "2025-10-16T13:10:05.972382Z",
     "start_time": "2025-10-16T13:10:05.967802Z"
    }
   },
   "cell_type": "code",
   "source": "y_pred",
   "id": "8992e40d8bbe0c2b",
   "outputs": [
    {
     "data": {
      "text/plain": [
       "0    ['Residential Roofing Services', 'Roofing Serv...\n",
       "1    ['Accessory Manufacturing', 'Bedding Manufactu...\n",
       "2    ['Real Estate Services', 'Testing and Inspecti...\n",
       "3    ['Laboratory Services', 'Health Promotion Serv...\n",
       "4    ['Meat Processing Services', 'Frozen Food Proc...\n",
       "5    ['Property Management Services', 'Real Estate ...\n",
       "6    ['Human Resources Services', 'Consulting Servi...\n",
       "7    ['SEO Services', 'Physical Therapy Services', ...\n",
       "8    ['Agricultural Equipment Services', 'Soil Nutr...\n",
       "9    ['Physical Therapy Services', 'Pharmaceutical ...\n",
       "Name: predicted, dtype: object"
      ]
     },
     "execution_count": 58,
     "metadata": {},
     "output_type": "execute_result"
    }
   ],
   "execution_count": 58
  },
  {
   "metadata": {
    "ExecuteTime": {
     "end_time": "2025-10-16T14:45:01.917572Z",
     "start_time": "2025-10-16T14:45:01.911895Z"
    }
   },
   "cell_type": "code",
   "source": [
    "import ast\n",
    "def compute_perfection_score_tops(y, y_pred):\n",
    "\n",
    "    total_score = 0\n",
    "    maximum_score = (1+2+3) * len(y)  # fiecare element poate avea maxim 6 puncte\n",
    "    querys = len(y)\n",
    "    for index in range(len(y)): # iteram prin fiecare linie\n",
    "        true_labels = ast.literal_eval(y.iloc[index])  # convertim stringul inapoi la lista\n",
    "        pred_labels = ast.literal_eval(y_pred.iloc[index])\n",
    "        for top_index in range(len(pred_labels)): # iteram prin fiecare top de predictii\n",
    "            score = 0\n",
    "            if pred_labels[top_index] == true_labels[top_index]:\n",
    "                score = positions_value[top_index]\n",
    "            else:\n",
    "                if true_labels[top_index] in pred_labels:\n",
    "                    second_index = pred_labels.index(true_labels[top_index])\n",
    "                    difference = abs(positions_value[top_index] - positions_value[second_index])\n",
    "                    sum = positions_value[top_index] + positions_value[second_index]\n",
    "                    score = positions_value[top_index] - difference / sum\n",
    "\n",
    "            total_score = total_score + score\n",
    "    return total_score, maximum_score\n"
   ],
   "id": "4f0cd633a4e8050c",
   "outputs": [],
   "execution_count": 132
  },
  {
   "metadata": {
    "ExecuteTime": {
     "end_time": "2025-10-16T14:45:03.227040Z",
     "start_time": "2025-10-16T14:45:03.220934Z"
    }
   },
   "cell_type": "code",
   "source": [
    "score, max_score = compute_perfection_score_tops(y, y_pred)\n",
    "print(f\"Score: {score}, Max Score: {max_score}, Percentage: {score/max_score*100:.2f}%\")\n"
   ],
   "id": "3968ac3114f9e363",
   "outputs": [
    {
     "name": "stdout",
     "output_type": "stream",
     "text": [
      "Score: 40.03333333333333, Max Score: 60, Percentage: 66.72%\n"
     ]
    }
   ],
   "execution_count": 133
  },
  {
   "metadata": {
    "ExecuteTime": {
     "end_time": "2025-10-16T14:45:44.888730Z",
     "start_time": "2025-10-16T14:45:44.882018Z"
    }
   },
   "cell_type": "code",
   "source": [
    "import ast\n",
    "def compute_perfection_score(y, y_pred):\n",
    "    total_score = 0\n",
    "    maximum_score = (1+1+1) * len(y)  # fiecare element poate avea maxim 6 puncte\n",
    "    querys = len(y)\n",
    "    for index in range(len(y)): # iteram prin fiecare linie\n",
    "        score = 0\n",
    "        true_labels = ast.literal_eval(y.iloc[index])  # convertim stringul inapoi la lista\n",
    "        pred_labels = ast.literal_eval(y_pred.iloc[index])\n",
    "        for top_index in range(len(pred_labels)): # iteram prin fiecare top de predictii\n",
    "            if true_labels[top_index] in pred_labels:\n",
    "                score += 1\n",
    "        total_score = total_score + score\n",
    "    return total_score, maximum_score"
   ],
   "id": "dfad825d93e95581",
   "outputs": [],
   "execution_count": 136
  },
  {
   "metadata": {
    "ExecuteTime": {
     "end_time": "2025-10-16T14:45:46.095946Z",
     "start_time": "2025-10-16T14:45:46.092313Z"
    }
   },
   "cell_type": "code",
   "source": [
    "score, max_score = compute_perfection_score(y, y_pred)\n",
    "print(f\"Score: {score}, Max Score: {max_score}, Percentage: {score/max_score*100:.2f}%\")"
   ],
   "id": "ef9ceaed35d6efe1",
   "outputs": [
    {
     "name": "stdout",
     "output_type": "stream",
     "text": [
      "Score: 20, Max Score: 30, Percentage: 66.67%\n"
     ]
    }
   ],
   "execution_count": 137
  },
  {
   "metadata": {
    "ExecuteTime": {
     "end_time": "2025-10-16T14:48:45.585964Z",
     "start_time": "2025-10-16T14:48:45.580599Z"
    }
   },
   "cell_type": "code",
   "source": [
    "import ast\n",
    "def compute_candidate_score(y, y_pred):\n",
    "    total_score = 0\n",
    "    maximum_score = (1) * len(y)  # fiecare element poate avea maxim 6 puncte\n",
    "    for index in range(len(y)): # iteram prin fiecare linie\n",
    "        score = 0\n",
    "        true_labels = ast.literal_eval(y.iloc[index])  # convertim stringul inapoi la lista\n",
    "        pred_labels = ast.literal_eval(y_pred.iloc[index])\n",
    "        for top_index in range(len(pred_labels)): # iteram prin fiecare top de predictii\n",
    "            if true_labels[top_index] in pred_labels:\n",
    "                score += 1\n",
    "                break\n",
    "        total_score = total_score + score\n",
    "    return total_score, maximum_score"
   ],
   "id": "4964f237dea314a1",
   "outputs": [],
   "execution_count": 140
  },
  {
   "metadata": {
    "ExecuteTime": {
     "end_time": "2025-10-16T14:48:49.669260Z",
     "start_time": "2025-10-16T14:48:49.665540Z"
    }
   },
   "cell_type": "code",
   "source": [
    "score, max_score = compute_candidate_score(y, y_pred)\n",
    "print(f\"Score: {score}, Max Score: {max_score}, Percentage: {score/max_score*100:.2f}%\")"
   ],
   "id": "c951cba3ecfe4d81",
   "outputs": [
    {
     "name": "stdout",
     "output_type": "stream",
     "text": [
      "Score: 10, Max Score: 10, Percentage: 100.00%\n"
     ]
    }
   ],
   "execution_count": 141
  },
  {
   "metadata": {
    "ExecuteTime": {
     "end_time": "2025-10-16T14:49:56.545373Z",
     "start_time": "2025-10-16T14:49:56.541043Z"
    }
   },
   "cell_type": "code",
   "source": [
    "import ast\n",
    "def compute_positions_score(y, y_pred):\n",
    "    total_score = 0\n",
    "    maximum_score = (1+1+1) * len(y)  # fiecare element poate avea maxim 6 puncte\n",
    "    for index in range(len(y)): # iteram prin fiecare linie\n",
    "        score = 0\n",
    "        true_labels = ast.literal_eval(y.iloc[index])  # convertim stringul inapoi la lista\n",
    "        pred_labels = ast.literal_eval(y_pred.iloc[index])\n",
    "        for top_index in range(len(pred_labels)): # iteram prin fiecare top de predictii\n",
    "            if true_labels[top_index] == pred_labels[top_index]:\n",
    "                score += 1\n",
    "        total_score = total_score + score\n",
    "    return total_score, maximum_score"
   ],
   "id": "f63c5aec8fecd542",
   "outputs": [],
   "execution_count": 143
  },
  {
   "metadata": {
    "ExecuteTime": {
     "end_time": "2025-10-16T14:50:08.735990Z",
     "start_time": "2025-10-16T14:50:08.731916Z"
    }
   },
   "cell_type": "code",
   "source": [
    "score, max_score = compute_positions_score(y, y_pred)\n",
    "print(f\"Score: {score}, Max Score: {max_score}, Percentage: {score/max_score*100:.2f}%\")"
   ],
   "id": "bb9210ac701ec4bf",
   "outputs": [
    {
     "name": "stdout",
     "output_type": "stream",
     "text": [
      "Score: 13, Max Score: 30, Percentage: 43.33%\n"
     ]
    }
   ],
   "execution_count": 144
  },
  {
   "metadata": {
    "ExecuteTime": {
     "end_time": "2025-10-16T14:50:52.081199Z",
     "start_time": "2025-10-16T14:50:52.076040Z"
    }
   },
   "cell_type": "code",
   "source": "",
   "id": "4e63dd6ae25dd6cf",
   "outputs": [
    {
     "data": {
      "text/plain": [
       "71.66499999999999"
      ]
     },
     "execution_count": 146,
     "metadata": {},
     "output_type": "execute_result"
    }
   ],
   "execution_count": 146
  }
 ],
 "metadata": {
  "kernelspec": {
   "display_name": "Python 3",
   "language": "python",
   "name": "python3"
  },
  "language_info": {
   "codemirror_mode": {
    "name": "ipython",
    "version": 2
   },
   "file_extension": ".py",
   "mimetype": "text/x-python",
   "name": "python",
   "nbconvert_exporter": "python",
   "pygments_lexer": "ipython2",
   "version": "2.7.6"
  }
 },
 "nbformat": 4,
 "nbformat_minor": 5
}
