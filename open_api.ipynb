{
 "cells": [
  {
   "metadata": {
    "ExecuteTime": {
     "end_time": "2025-10-16T15:30:22.918404Z",
     "start_time": "2025-10-16T15:30:22.914692Z"
    }
   },
   "cell_type": "code",
   "source": [
    "import os\n",
    "from dotenv import load_dotenv\n",
    "\n",
    "# Load environment variables from .env file\n",
    "load_dotenv()\n",
    "\n",
    "# Get API key from environment variable\n",
    "# If not found, you need to create a .env file with GEMINI_API_KEY=your_key_here\n",
    "api_key = os.getenv(\"GEMINI_API_KEY\")\n",
    "if not api_key:\n",
    "    raise ValueError(\"GEMINI_API_KEY not found in environment variables. Please create a .env file.\")\n",
    "\n",
    "os.environ[\"GEMINI_API_KEY\"] = api_key"
   ],
   "id": "c53a04ebe0e78fe1",
   "outputs": [],
   "execution_count": 1
  },
  {
   "metadata": {
    "ExecuteTime": {
     "end_time": "2025-10-16T15:30:23.553234Z",
     "start_time": "2025-10-16T15:30:23.550117Z"
    }
   },
   "cell_type": "code",
   "source": [
    "import os\n",
    "api_key = os.getenv(\"GEMINI_API_KEY\")\n",
    "print(\"API Key loaded:\", \"✓\" if api_key else \"✗\")"
   ],
   "id": "369999d553683848",
   "outputs": [
    {
     "name": "stdout",
     "output_type": "stream",
     
   "execution_count": 2
  },
  {
   "metadata": {
    "ExecuteTime": {
     "end_time": "2025-10-16T15:31:10.287417Z",
     "start_time": "2025-10-16T15:30:56.286830Z"
    }
   },
   "cell_type": "code",
   "source": [
    "from google import genai\n",
    "\n",
    "client = genai.Client()\n",
    "\n",
    "response = client.models.generate_content(\n",
    "    model=\"gemini-2.5-flash\",\n",
    "    contents=\"Explain how AI works in a few words\",\n",
    ")\n",
    "\n",
    "print(response.text)"
   ],
   "id": "993f8c323c4f2420",
   "outputs": [
    {
     "name": "stdout",
     "output_type": "stream",
     "text": [
      "AI learns patterns from data to make decisions or predictions.\n"
     ]
    }
   ],
   "execution_count": 7
  },
  {
   "metadata": {
    "ExecuteTime": {
     "end_time": "2025-10-16T15:31:18.271988Z",
     "start_time": "2025-10-16T15:31:18.186411Z"
    }
   },
   "cell_type": "code",
   "source": [
    "import pandas as pd\n",
    "\n",
    "data = pd.read_csv(\"./data/ml_insurance_challenge.csv\")\n",
    "labels = pd.read_csv(\"./data/insurance_taxonomy - insurance_taxonomy.csv\")\n",
    "# pritam shape\n",
    "print(data.shape)\n",
    "print(labels.shape)"
   ],
   "id": "1481da3d2b975934",
   "outputs": [
    {
     "name": "stdout",
     "output_type": "stream",
     "text": [
      "(9494, 5)\n",
      "(220, 1)\n"
     ]
    }
   ],
   "execution_count": 8
  },
  {
   "metadata": {
    "ExecuteTime": {
     "end_time": "2025-10-16T15:31:20.259644Z",
     "start_time": "2025-10-16T15:31:20.255942Z"
    }
   },
   "cell_type": "code",
   "source": [
    "import re\n",
    "from html import unescape\n",
    "\n",
    "def soft_clean(s: str) -> str:\n",
    "    if not s:\n",
    "        return \"\"\n",
    "    s = unescape(s)  # decode HTML entities\n",
    "    s = re.sub(r'https?://\\S+', '<URL>', s)\n",
    "    s = re.sub(r'\\S+@\\S+', '<EMAIL>', s)\n",
    "    # înlocuiește doar multiplele spații, fără a atinge newline-urile\n",
    "    s = re.sub(r'[ \\t]+', ' ', s)\n",
    "    # normalizează liniile multiple: mai mult de 2 -> doar 2\n",
    "    s = re.sub(r'\\n{3,}', '\\n\\n', s)\n",
    "    # curăță spații la capete de linii\n",
    "    s = re.sub(r' *\\n *', '\\n', s)\n",
    "    return s.strip()"
   ],
   "id": "2bf652169fb622db",
   "outputs": [],
   "execution_count": 9
  },
  {
   "metadata": {
    "ExecuteTime": {
     "end_time": "2025-10-16T15:31:24.530417Z",
     "start_time": "2025-10-16T15:31:24.525201Z"
    }
   },
   "cell_type": "code",
   "source": [
    "def classify_company(index):\n",
    "    text = ''\n",
    "    prompt = \"Given this detailed company profile\\n\"\n",
    "    for index, column in enumerate(data.iloc[index]):\n",
    "        # dacă e listă de stringuri în formă text (ex: \"['a','b','c']\")\n",
    "        if isinstance(column, str) and column.startswith('[') and column.endswith(']'):\n",
    "            items = column[1:-1].split(',')\n",
    "            text += \"Business Tags: \"\n",
    "            for item in items:\n",
    "                text += f\"{item.strip().strip('\\\"').strip('\\'')}, \"  # eliminăm spații și ghilimele\n",
    "            text = text[:-2] + '\\n'  # scoate ultima virgulă, adaugă newline\n",
    "\n",
    "        else:\n",
    "            text += f\"{data.columns[index].capitalize()}: {column}\\n\"\n",
    "\n",
    "    text = soft_clean(text)\n",
    "    prompt += text\n",
    "    #print(text)\n",
    "\n",
    "\n",
    "    prompt+= (\n",
    "    \"\\nTask: \\n\"\n",
    "    \"Classify this company into exactly 3 labels from the list below. MAKE A TOP 3\\n\"\n",
    "    \"ONLY choose labels that appear verbatim in the list. \\n\"\n",
    "    \"DO NOT invent, paraphrase, or modify labels. \\n\"\n",
    "    \"If none seem appropriate, choose the 3 closest matches from the given list only. \\n\"\n",
    "    \"Give the answer as a python list in NORMAL TEXT \\n\"\n",
    ")\n",
    "\n",
    "\n",
    "    # prompt += \"\\nCHOOSE ONLY 3 LABELS FROM THE LIST, THAT BEST FIT THE COMPANY DESCRIPTION \\n\"\n",
    "    # prompt += \"RESPOND ONLY WITH THE LABELS, SEPARATED BY COMMA. \\n\"\n",
    "    # text += (\"\\nClassify the business into 3 of the following insurance taxonomy labels. ONLY CHOOSE FROM THE LIST BELOW. \\n \"\n",
    "    #          \"RESPOND ONLY WITH THE LABELS, NO OTHER TEXT. \\n\")\n",
    "    for label in labels['label']:\n",
    "        prompt += f\"- {label}\\n\"\n",
    "\n",
    "    #print(prompt)\n",
    "\n",
    "    response = client.models.generate_content(\n",
    "        model=\"gemini-2.5-flash\",\n",
    "        contents=prompt,\n",
    "    )\n",
    "\n",
    "\n",
    "    return text, response.text\n",
    "    #print(\"Response:\")\n",
    "    #print(response.text)\n",
    "\n"
   ],
   "id": "dfbb492c60481fe0",
   "outputs": [],
   "execution_count": 10
  },
  {
   "metadata": {
    "ExecuteTime": {
     "end_time": "2025-10-16T15:31:31.707979Z",
     "start_time": "2025-10-16T15:31:28.091882Z"
    }
   },
   "cell_type": "code",
   "source": [
    "text, response = classify_company(0)\n",
    "print(text)\n",
    "print(\"Response:\")\n",
    "print(response)"
   ],
   "id": "f9283fdbc091b2a3",
   "outputs": [
    {
     "ename": "ServerError",
     "evalue": "503 UNAVAILABLE. {'error': {'code': 503, 'message': 'The model is overloaded. Please try again later.', 'status': 'UNAVAILABLE'}}",
     "output_type": "error",
     "traceback": [
      "\u001B[31m---------------------------------------------------------------------------\u001B[39m",
      "\u001B[31mServerError\u001B[39m                               Traceback (most recent call last)",
      "\u001B[36mCell\u001B[39m\u001B[36m \u001B[39m\u001B[32mIn[11]\u001B[39m\u001B[32m, line 1\u001B[39m\n\u001B[32m----> \u001B[39m\u001B[32m1\u001B[39m text, response = \u001B[43mclassify_company\u001B[49m\u001B[43m(\u001B[49m\u001B[32;43m0\u001B[39;49m\u001B[43m)\u001B[49m\n\u001B[32m      2\u001B[39m \u001B[38;5;28mprint\u001B[39m(text)\n\u001B[32m      3\u001B[39m \u001B[38;5;28mprint\u001B[39m(\u001B[33m\"\u001B[39m\u001B[33mResponse:\u001B[39m\u001B[33m\"\u001B[39m)\n",
      "\u001B[36mCell\u001B[39m\u001B[36m \u001B[39m\u001B[32mIn[10]\u001B[39m\u001B[32m, line 40\u001B[39m, in \u001B[36mclassify_company\u001B[39m\u001B[34m(index)\u001B[39m\n\u001B[32m     36\u001B[39m     prompt += \u001B[33mf\u001B[39m\u001B[33m\"\u001B[39m\u001B[33m- \u001B[39m\u001B[38;5;132;01m{\u001B[39;00mlabel\u001B[38;5;132;01m}\u001B[39;00m\u001B[38;5;130;01m\\n\u001B[39;00m\u001B[33m\"\u001B[39m\n\u001B[32m     38\u001B[39m \u001B[38;5;66;03m#print(prompt)\u001B[39;00m\n\u001B[32m---> \u001B[39m\u001B[32m40\u001B[39m response = \u001B[43mclient\u001B[49m\u001B[43m.\u001B[49m\u001B[43mmodels\u001B[49m\u001B[43m.\u001B[49m\u001B[43mgenerate_content\u001B[49m\u001B[43m(\u001B[49m\n\u001B[32m     41\u001B[39m \u001B[43m    \u001B[49m\u001B[43mmodel\u001B[49m\u001B[43m=\u001B[49m\u001B[33;43m\"\u001B[39;49m\u001B[33;43mgemini-2.5-flash\u001B[39;49m\u001B[33;43m\"\u001B[39;49m\u001B[43m,\u001B[49m\n\u001B[32m     42\u001B[39m \u001B[43m    \u001B[49m\u001B[43mcontents\u001B[49m\u001B[43m=\u001B[49m\u001B[43mprompt\u001B[49m\u001B[43m,\u001B[49m\n\u001B[32m     43\u001B[39m \u001B[43m\u001B[49m\u001B[43m)\u001B[49m\n\u001B[32m     46\u001B[39m \u001B[38;5;28;01mreturn\u001B[39;00m text, response.text\n",
      "\u001B[36mFile \u001B[39m\u001B[32m~\\AppData\\Local\\Programs\\Python\\Python313\\Lib\\site-packages\\google\\genai\\models.py:5001\u001B[39m, in \u001B[36mModels.generate_content\u001B[39m\u001B[34m(self, model, contents, config)\u001B[39m\n\u001B[32m   4999\u001B[39m \u001B[38;5;28;01mwhile\u001B[39;00m remaining_remote_calls_afc > \u001B[32m0\u001B[39m:\n\u001B[32m   5000\u001B[39m   i += \u001B[32m1\u001B[39m\n\u001B[32m-> \u001B[39m\u001B[32m5001\u001B[39m   response = \u001B[38;5;28;43mself\u001B[39;49m\u001B[43m.\u001B[49m\u001B[43m_generate_content\u001B[49m\u001B[43m(\u001B[49m\n\u001B[32m   5002\u001B[39m \u001B[43m      \u001B[49m\u001B[43mmodel\u001B[49m\u001B[43m=\u001B[49m\u001B[43mmodel\u001B[49m\u001B[43m,\u001B[49m\u001B[43m \u001B[49m\u001B[43mcontents\u001B[49m\u001B[43m=\u001B[49m\u001B[43mcontents\u001B[49m\u001B[43m,\u001B[49m\u001B[43m \u001B[49m\u001B[43mconfig\u001B[49m\u001B[43m=\u001B[49m\u001B[43mparsed_config\u001B[49m\n\u001B[32m   5003\u001B[39m \u001B[43m  \u001B[49m\u001B[43m)\u001B[49m\n\u001B[32m   5005\u001B[39m   function_map = _extra_utils.get_function_map(parsed_config)\n\u001B[32m   5006\u001B[39m   \u001B[38;5;28;01mif\u001B[39;00m \u001B[38;5;129;01mnot\u001B[39;00m function_map:\n",
      "\u001B[36mFile \u001B[39m\u001B[32m~\\AppData\\Local\\Programs\\Python\\Python313\\Lib\\site-packages\\google\\genai\\models.py:3813\u001B[39m, in \u001B[36mModels._generate_content\u001B[39m\u001B[34m(self, model, contents, config)\u001B[39m\n\u001B[32m   3810\u001B[39m request_dict = _common.convert_to_dict(request_dict)\n\u001B[32m   3811\u001B[39m request_dict = _common.encode_unserializable_types(request_dict)\n\u001B[32m-> \u001B[39m\u001B[32m3813\u001B[39m response = \u001B[38;5;28;43mself\u001B[39;49m\u001B[43m.\u001B[49m\u001B[43m_api_client\u001B[49m\u001B[43m.\u001B[49m\u001B[43mrequest\u001B[49m\u001B[43m(\u001B[49m\n\u001B[32m   3814\u001B[39m \u001B[43m    \u001B[49m\u001B[33;43m'\u001B[39;49m\u001B[33;43mpost\u001B[39;49m\u001B[33;43m'\u001B[39;49m\u001B[43m,\u001B[49m\u001B[43m \u001B[49m\u001B[43mpath\u001B[49m\u001B[43m,\u001B[49m\u001B[43m \u001B[49m\u001B[43mrequest_dict\u001B[49m\u001B[43m,\u001B[49m\u001B[43m \u001B[49m\u001B[43mhttp_options\u001B[49m\n\u001B[32m   3815\u001B[39m \u001B[43m\u001B[49m\u001B[43m)\u001B[49m\n\u001B[32m   3817\u001B[39m \u001B[38;5;28;01mif\u001B[39;00m config \u001B[38;5;129;01mis\u001B[39;00m \u001B[38;5;129;01mnot\u001B[39;00m \u001B[38;5;28;01mNone\u001B[39;00m \u001B[38;5;129;01mand\u001B[39;00m \u001B[38;5;28mgetattr\u001B[39m(\n\u001B[32m   3818\u001B[39m     config, \u001B[33m'\u001B[39m\u001B[33mshould_return_http_response\u001B[39m\u001B[33m'\u001B[39m, \u001B[38;5;28;01mNone\u001B[39;00m\n\u001B[32m   3819\u001B[39m ):\n\u001B[32m   3820\u001B[39m   return_value = types.GenerateContentResponse(sdk_http_response=response)\n",
      "\u001B[36mFile \u001B[39m\u001B[32m~\\AppData\\Local\\Programs\\Python\\Python313\\Lib\\site-packages\\google\\genai\\_api_client.py:1306\u001B[39m, in \u001B[36mBaseApiClient.request\u001B[39m\u001B[34m(self, http_method, path, request_dict, http_options)\u001B[39m\n\u001B[32m   1296\u001B[39m \u001B[38;5;28;01mdef\u001B[39;00m\u001B[38;5;250m \u001B[39m\u001B[34mrequest\u001B[39m(\n\u001B[32m   1297\u001B[39m     \u001B[38;5;28mself\u001B[39m,\n\u001B[32m   1298\u001B[39m     http_method: \u001B[38;5;28mstr\u001B[39m,\n\u001B[32m   (...)\u001B[39m\u001B[32m   1301\u001B[39m     http_options: Optional[HttpOptionsOrDict] = \u001B[38;5;28;01mNone\u001B[39;00m,\n\u001B[32m   1302\u001B[39m ) -> SdkHttpResponse:\n\u001B[32m   1303\u001B[39m   http_request = \u001B[38;5;28mself\u001B[39m._build_request(\n\u001B[32m   1304\u001B[39m       http_method, path, request_dict, http_options\n\u001B[32m   1305\u001B[39m   )\n\u001B[32m-> \u001B[39m\u001B[32m1306\u001B[39m   response = \u001B[38;5;28;43mself\u001B[39;49m\u001B[43m.\u001B[49m\u001B[43m_request\u001B[49m\u001B[43m(\u001B[49m\u001B[43mhttp_request\u001B[49m\u001B[43m,\u001B[49m\u001B[43m \u001B[49m\u001B[43mhttp_options\u001B[49m\u001B[43m,\u001B[49m\u001B[43m \u001B[49m\u001B[43mstream\u001B[49m\u001B[43m=\u001B[49m\u001B[38;5;28;43;01mFalse\u001B[39;49;00m\u001B[43m)\u001B[49m\n\u001B[32m   1307\u001B[39m   response_body = (\n\u001B[32m   1308\u001B[39m       response.response_stream[\u001B[32m0\u001B[39m] \u001B[38;5;28;01mif\u001B[39;00m response.response_stream \u001B[38;5;28;01melse\u001B[39;00m \u001B[33m'\u001B[39m\u001B[33m'\u001B[39m\n\u001B[32m   1309\u001B[39m   )\n\u001B[32m   1310\u001B[39m   \u001B[38;5;28;01mreturn\u001B[39;00m SdkHttpResponse(headers=response.headers, body=response_body)\n",
      "\u001B[36mFile \u001B[39m\u001B[32m~\\AppData\\Local\\Programs\\Python\\Python313\\Lib\\site-packages\\google\\genai\\_api_client.py:1142\u001B[39m, in \u001B[36mBaseApiClient._request\u001B[39m\u001B[34m(self, http_request, http_options, stream)\u001B[39m\n\u001B[32m   1139\u001B[39m     retry = tenacity.Retrying(**retry_kwargs)\n\u001B[32m   1140\u001B[39m     \u001B[38;5;28;01mreturn\u001B[39;00m retry(\u001B[38;5;28mself\u001B[39m._request_once, http_request, stream)  \u001B[38;5;66;03m# type: ignore[no-any-return]\u001B[39;00m\n\u001B[32m-> \u001B[39m\u001B[32m1142\u001B[39m \u001B[38;5;28;01mreturn\u001B[39;00m \u001B[38;5;28;43mself\u001B[39;49m\u001B[43m.\u001B[49m\u001B[43m_retry\u001B[49m\u001B[43m(\u001B[49m\u001B[38;5;28;43mself\u001B[39;49m\u001B[43m.\u001B[49m\u001B[43m_request_once\u001B[49m\u001B[43m,\u001B[49m\u001B[43m \u001B[49m\u001B[43mhttp_request\u001B[49m\u001B[43m,\u001B[49m\u001B[43m \u001B[49m\u001B[43mstream\u001B[49m\u001B[43m)\u001B[49m\n",
      "\u001B[36mFile \u001B[39m\u001B[32m~\\AppData\\Local\\Programs\\Python\\Python313\\Lib\\site-packages\\tenacity\\__init__.py:477\u001B[39m, in \u001B[36mRetrying.__call__\u001B[39m\u001B[34m(self, fn, *args, **kwargs)\u001B[39m\n\u001B[32m    475\u001B[39m retry_state = RetryCallState(retry_object=\u001B[38;5;28mself\u001B[39m, fn=fn, args=args, kwargs=kwargs)\n\u001B[32m    476\u001B[39m \u001B[38;5;28;01mwhile\u001B[39;00m \u001B[38;5;28;01mTrue\u001B[39;00m:\n\u001B[32m--> \u001B[39m\u001B[32m477\u001B[39m     do = \u001B[38;5;28;43mself\u001B[39;49m\u001B[43m.\u001B[49m\u001B[43miter\u001B[49m\u001B[43m(\u001B[49m\u001B[43mretry_state\u001B[49m\u001B[43m=\u001B[49m\u001B[43mretry_state\u001B[49m\u001B[43m)\u001B[49m\n\u001B[32m    478\u001B[39m     \u001B[38;5;28;01mif\u001B[39;00m \u001B[38;5;28misinstance\u001B[39m(do, DoAttempt):\n\u001B[32m    479\u001B[39m         \u001B[38;5;28;01mtry\u001B[39;00m:\n",
      "\u001B[36mFile \u001B[39m\u001B[32m~\\AppData\\Local\\Programs\\Python\\Python313\\Lib\\site-packages\\tenacity\\__init__.py:378\u001B[39m, in \u001B[36mBaseRetrying.iter\u001B[39m\u001B[34m(self, retry_state)\u001B[39m\n\u001B[32m    376\u001B[39m result = \u001B[38;5;28;01mNone\u001B[39;00m\n\u001B[32m    377\u001B[39m \u001B[38;5;28;01mfor\u001B[39;00m action \u001B[38;5;129;01min\u001B[39;00m \u001B[38;5;28mself\u001B[39m.iter_state.actions:\n\u001B[32m--> \u001B[39m\u001B[32m378\u001B[39m     result = \u001B[43maction\u001B[49m\u001B[43m(\u001B[49m\u001B[43mretry_state\u001B[49m\u001B[43m)\u001B[49m\n\u001B[32m    379\u001B[39m \u001B[38;5;28;01mreturn\u001B[39;00m result\n",
      "\u001B[36mFile \u001B[39m\u001B[32m~\\AppData\\Local\\Programs\\Python\\Python313\\Lib\\site-packages\\tenacity\\__init__.py:420\u001B[39m, in \u001B[36mBaseRetrying._post_stop_check_actions.<locals>.exc_check\u001B[39m\u001B[34m(rs)\u001B[39m\n\u001B[32m    418\u001B[39m retry_exc = \u001B[38;5;28mself\u001B[39m.retry_error_cls(fut)\n\u001B[32m    419\u001B[39m \u001B[38;5;28;01mif\u001B[39;00m \u001B[38;5;28mself\u001B[39m.reraise:\n\u001B[32m--> \u001B[39m\u001B[32m420\u001B[39m     \u001B[38;5;28;01mraise\u001B[39;00m \u001B[43mretry_exc\u001B[49m\u001B[43m.\u001B[49m\u001B[43mreraise\u001B[49m\u001B[43m(\u001B[49m\u001B[43m)\u001B[49m\n\u001B[32m    421\u001B[39m \u001B[38;5;28;01mraise\u001B[39;00m retry_exc \u001B[38;5;28;01mfrom\u001B[39;00m\u001B[38;5;250m \u001B[39m\u001B[34;01mfut\u001B[39;00m\u001B[34;01m.\u001B[39;00m\u001B[34;01mexception\u001B[39;00m()\n",
      "\u001B[36mFile \u001B[39m\u001B[32m~\\AppData\\Local\\Programs\\Python\\Python313\\Lib\\site-packages\\tenacity\\__init__.py:187\u001B[39m, in \u001B[36mRetryError.reraise\u001B[39m\u001B[34m(self)\u001B[39m\n\u001B[32m    185\u001B[39m \u001B[38;5;28;01mdef\u001B[39;00m\u001B[38;5;250m \u001B[39m\u001B[34mreraise\u001B[39m(\u001B[38;5;28mself\u001B[39m) -> t.NoReturn:\n\u001B[32m    186\u001B[39m     \u001B[38;5;28;01mif\u001B[39;00m \u001B[38;5;28mself\u001B[39m.last_attempt.failed:\n\u001B[32m--> \u001B[39m\u001B[32m187\u001B[39m         \u001B[38;5;28;01mraise\u001B[39;00m \u001B[38;5;28;43mself\u001B[39;49m\u001B[43m.\u001B[49m\u001B[43mlast_attempt\u001B[49m\u001B[43m.\u001B[49m\u001B[43mresult\u001B[49m\u001B[43m(\u001B[49m\u001B[43m)\u001B[49m\n\u001B[32m    188\u001B[39m     \u001B[38;5;28;01mraise\u001B[39;00m \u001B[38;5;28mself\u001B[39m\n",
      "\u001B[36mFile \u001B[39m\u001B[32m~\\AppData\\Local\\Programs\\Python\\Python313\\Lib\\concurrent\\futures\\_base.py:449\u001B[39m, in \u001B[36mFuture.result\u001B[39m\u001B[34m(self, timeout)\u001B[39m\n\u001B[32m    447\u001B[39m     \u001B[38;5;28;01mraise\u001B[39;00m CancelledError()\n\u001B[32m    448\u001B[39m \u001B[38;5;28;01melif\u001B[39;00m \u001B[38;5;28mself\u001B[39m._state == FINISHED:\n\u001B[32m--> \u001B[39m\u001B[32m449\u001B[39m     \u001B[38;5;28;01mreturn\u001B[39;00m \u001B[38;5;28;43mself\u001B[39;49m\u001B[43m.\u001B[49m\u001B[43m__get_result\u001B[49m\u001B[43m(\u001B[49m\u001B[43m)\u001B[49m\n\u001B[32m    451\u001B[39m \u001B[38;5;28mself\u001B[39m._condition.wait(timeout)\n\u001B[32m    453\u001B[39m \u001B[38;5;28;01mif\u001B[39;00m \u001B[38;5;28mself\u001B[39m._state \u001B[38;5;129;01min\u001B[39;00m [CANCELLED, CANCELLED_AND_NOTIFIED]:\n",
      "\u001B[36mFile \u001B[39m\u001B[32m~\\AppData\\Local\\Programs\\Python\\Python313\\Lib\\concurrent\\futures\\_base.py:401\u001B[39m, in \u001B[36mFuture.__get_result\u001B[39m\u001B[34m(self)\u001B[39m\n\u001B[32m    399\u001B[39m \u001B[38;5;28;01mif\u001B[39;00m \u001B[38;5;28mself\u001B[39m._exception:\n\u001B[32m    400\u001B[39m     \u001B[38;5;28;01mtry\u001B[39;00m:\n\u001B[32m--> \u001B[39m\u001B[32m401\u001B[39m         \u001B[38;5;28;01mraise\u001B[39;00m \u001B[38;5;28mself\u001B[39m._exception\n\u001B[32m    402\u001B[39m     \u001B[38;5;28;01mfinally\u001B[39;00m:\n\u001B[32m    403\u001B[39m         \u001B[38;5;66;03m# Break a reference cycle with the exception in self._exception\u001B[39;00m\n\u001B[32m    404\u001B[39m         \u001B[38;5;28mself\u001B[39m = \u001B[38;5;28;01mNone\u001B[39;00m\n",
      "\u001B[36mFile \u001B[39m\u001B[32m~\\AppData\\Local\\Programs\\Python\\Python313\\Lib\\site-packages\\tenacity\\__init__.py:480\u001B[39m, in \u001B[36mRetrying.__call__\u001B[39m\u001B[34m(self, fn, *args, **kwargs)\u001B[39m\n\u001B[32m    478\u001B[39m \u001B[38;5;28;01mif\u001B[39;00m \u001B[38;5;28misinstance\u001B[39m(do, DoAttempt):\n\u001B[32m    479\u001B[39m     \u001B[38;5;28;01mtry\u001B[39;00m:\n\u001B[32m--> \u001B[39m\u001B[32m480\u001B[39m         result = \u001B[43mfn\u001B[49m\u001B[43m(\u001B[49m\u001B[43m*\u001B[49m\u001B[43margs\u001B[49m\u001B[43m,\u001B[49m\u001B[43m \u001B[49m\u001B[43m*\u001B[49m\u001B[43m*\u001B[49m\u001B[43mkwargs\u001B[49m\u001B[43m)\u001B[49m\n\u001B[32m    481\u001B[39m     \u001B[38;5;28;01mexcept\u001B[39;00m \u001B[38;5;167;01mBaseException\u001B[39;00m:  \u001B[38;5;66;03m# noqa: B902\u001B[39;00m\n\u001B[32m    482\u001B[39m         retry_state.set_exception(sys.exc_info())  \u001B[38;5;66;03m# type: ignore[arg-type]\u001B[39;00m\n",
      "\u001B[36mFile \u001B[39m\u001B[32m~\\AppData\\Local\\Programs\\Python\\Python313\\Lib\\site-packages\\google\\genai\\_api_client.py:1119\u001B[39m, in \u001B[36mBaseApiClient._request_once\u001B[39m\u001B[34m(self, http_request, stream)\u001B[39m\n\u001B[32m   1111\u001B[39m \u001B[38;5;28;01melse\u001B[39;00m:\n\u001B[32m   1112\u001B[39m   response = \u001B[38;5;28mself\u001B[39m._httpx_client.request(\n\u001B[32m   1113\u001B[39m       method=http_request.method,\n\u001B[32m   1114\u001B[39m       url=http_request.url,\n\u001B[32m   (...)\u001B[39m\u001B[32m   1117\u001B[39m       timeout=http_request.timeout,\n\u001B[32m   1118\u001B[39m   )\n\u001B[32m-> \u001B[39m\u001B[32m1119\u001B[39m   \u001B[43merrors\u001B[49m\u001B[43m.\u001B[49m\u001B[43mAPIError\u001B[49m\u001B[43m.\u001B[49m\u001B[43mraise_for_response\u001B[49m\u001B[43m(\u001B[49m\u001B[43mresponse\u001B[49m\u001B[43m)\u001B[49m\n\u001B[32m   1120\u001B[39m   \u001B[38;5;28;01mreturn\u001B[39;00m HttpResponse(\n\u001B[32m   1121\u001B[39m       response.headers, response \u001B[38;5;28;01mif\u001B[39;00m stream \u001B[38;5;28;01melse\u001B[39;00m [response.text]\n\u001B[32m   1122\u001B[39m   )\n",
      "\u001B[36mFile \u001B[39m\u001B[32m~\\AppData\\Local\\Programs\\Python\\Python313\\Lib\\site-packages\\google\\genai\\errors.py:110\u001B[39m, in \u001B[36mAPIError.raise_for_response\u001B[39m\u001B[34m(cls, response)\u001B[39m\n\u001B[32m    108\u001B[39m   \u001B[38;5;28;01mraise\u001B[39;00m ClientError(status_code, response_json, response)\n\u001B[32m    109\u001B[39m \u001B[38;5;28;01melif\u001B[39;00m \u001B[32m500\u001B[39m <= status_code < \u001B[32m600\u001B[39m:\n\u001B[32m--> \u001B[39m\u001B[32m110\u001B[39m   \u001B[38;5;28;01mraise\u001B[39;00m ServerError(status_code, response_json, response)\n\u001B[32m    111\u001B[39m \u001B[38;5;28;01melse\u001B[39;00m:\n\u001B[32m    112\u001B[39m   \u001B[38;5;28;01mraise\u001B[39;00m \u001B[38;5;28mcls\u001B[39m(status_code, response_json, response)\n",
      "\u001B[31mServerError\u001B[39m: 503 UNAVAILABLE. {'error': {'code': 503, 'message': 'The model is overloaded. Please try again later.', 'status': 'UNAVAILABLE'}}"
     ]
    }
   ],
   "execution_count": 11
  },
  {
   "metadata": {
    "ExecuteTime": {
     "end_time": "2025-10-16T11:22:24.738458Z",
     "start_time": "2025-10-16T10:43:47.514560Z"
    }
   },
   "cell_type": "code",
   "source": [
    "# gemini_ground_truth = {}\n",
    "#\n",
    "# for i in range(100):\n",
    "#     text, response = classify_company(i)\n",
    "#     gemini_ground_truth[text] = response\n",
    "#     if i % 10 == 0 and i > 0:\n",
    "#         print(f\"Classified {i} companies\")"
   ],
   "id": "3b4159e65587a758",
   "outputs": [
    {
     "name": "stdout",
     "output_type": "stream",
     "text": [
      "Classified 10 companies\n",
      "Classified 20 companies\n",
      "Classified 30 companies\n",
      "Classified 40 companies\n",
      "Classified 50 companies\n",
      "Classified 60 companies\n",
      "Classified 70 companies\n",
      "Classified 80 companies\n",
      "Classified 90 companies\n"
     ]
    }
   ],
   "execution_count": 32
  },
  {
   "metadata": {
    "ExecuteTime": {
     "end_time": "2025-10-16T15:04:51.898331Z",
     "start_time": "2025-10-16T15:04:51.891009Z"
    }
   },
   "cell_type": "code",
   "source": "#gemini_ground_truth.values()",
   "id": "cfcaf7a771df67de",
   "outputs": [
    {
     "data": {
      "text/plain": [
       "dict_values(['Electric Line Construction, New Ground Pipeline Installation, Cable Installation Services', 'Food Processing Services, Frozen Food Processing, Ornamental Plant Nurseries', 'Bakery Production Services, Food Processing Services, Non-Alcoholic Beverage Manufacturing', 'Sheet Metal Services, Painting Services, Spray Painting Services', 'Travel Services, Arts Services, Event Planning Services', 'Financial Services, Human Resources Services, Management Consulting', 'Environmental Consulting, Compliance Services, Testing and Inspection Services', 'Plastic Manufacturing, Precast Concrete Installation, Non-Structural Steel Fabrication', 'Printing Services, Paper Production Services, Graphic Design Services', 'Event Planning Services, Catering Services, Testing and Inspection Services', 'Power Boiler and Heat Exchanger Manufacturing, Welded Heat Exchangers Manufacturer, Welding Services', 'Non-Profit Management, Property Management Services, Community Engagement Services', 'Laboratory Services, Testing and Inspection Services, Quality Assurance Services', 'Pharmaceutical Manufacturing, Laboratory Services, Technology Consulting', 'Testing and Inspection Services, Boiler Repair Services, Welding Services', 'Soap Production Services, Chemical Manufacturing, Sheet Metal Services', 'General Handyman Services, Boiler Repair Services, HVAC Installation and Service', 'Auction Services, Alarm Installation Services, Commercial Communication Equipment Installation', 'Media Production Services, Content Creation Services, Arts Services', 'Home Health Equipment Rental, Testing and Inspection Services, Consulting Services', 'Health Promotion Services, Testing and Inspection Services, Consulting Services', 'Food Processing Services, Confectionery Manufacturing, Testing and Inspection Services', 'Catering Services, Food Processing Services, Event Planning Services', 'Beauty Products Retailer, Cosmetic Manufacturing, Accessory Manufacturing', 'Furniture Manufacturing, Branding Services, Interior Design Services', 'Non-Structural Steel Fabrication, Sheet Metal Services, Testing and Inspection Services', 'Livestock Dealer Services, Meat Processing Services, Dairy Production Services', 'Carpentry Services, Window and Door Manufacturing, Wood Product Manufacturing', 'Marketing Services, Advertising Services, Consulting Services', 'Frozen Food Processing, Confectionery Manufacturing, Food Processing Services', 'Alarm Installation Services, Fire Safety Equipment Services, Residential Electrical Services', 'Strategic Planning Services, Project Management Services, Corporate Training Services', 'Commercial Construction Services,Single Family Residential Construction,Multi-Family Construction Services', 'Veterinary Services, Veterinary Clinics, Veterinary Health Centers', 'Consulting Services, Management Consulting, Business Development Services', 'Trim Manufacturing, Soap Production Services, Textile Manufacturing Services', 'Compliance Services, Quality Assurance Services, Risk Assessment Services', 'Interior Design Services, Landscaping Services, Consulting Services', 'Mobile Home Construction Services, Carpentry Services, Commercial Construction Services', 'Road and Highway Construction, Road Maintenance Services, Water Treatment Services', 'Marketing Services, HVAC Installation and Service, Technology Consulting', 'Non-Profit Management, Volunteer Services, Fundraising Services', 'Financial Services, Consulting Services, Graphic Design Services', 'Single Family Residential Construction, Project Management Services, Quality Assurance Services', 'Non-Structural Steel Fabrication, Plastic Manufacturing, Rubber Manufacturing', 'HVAC Installation and Service, Boiler Installation Services, Wood Product Manufacturing', 'Recycling Services, Sand and Gravel Mining, Plastic Manufacturing', 'Advertising Services, Digital Marketing Services, Marketing Services', 'Accounting Services, Taxes Consulting, Management Consulting Services', 'Pharmaceutical Manufacturing, Chemical Manufacturing, Testing and Inspection Services', 'Sand and Gravel Mining, Chemical Manufacturing, Grain Processing Services', 'Legal Services, Compliance Services, Testing and Inspection Services', 'Confectionery Manufacturing, Bakery Production Services, Training Services', 'Arts Services, Event Planning Services, Non-Profit Management', 'Health and Wellness Services,Physical Therapy Services,Health Promotion Services', 'Website Development Services, Monitoring Services, Technology Consulting', 'Based on the detailed company profile and the provided list of labels, here are the classifications:\\n\\n1.  **Industrial Machinery Installation**: The company has \"extensive experience in installing production lines\" and manufactures \"mining machinery,\" which falls under industrial machinery. This is a direct and strong match.\\n2.  **Conveyor System Installation**: The company manufactures \"transportation equipment\" and installs \"production lines.\" Conveyor systems are a common and critical type of transportation equipment installed in such industrial production lines.\\n3.  **Project Management Services**: The profile highlights \"extensive experience in installing production lines in over 160 countries worldwide.\" The coordination, logistics, and oversight required for such large-scale international installations strongly imply the provision of project management services.\\n\\nThese three labels describe services directly performed or strongly implied by the company\\'s operations, adhering to the verbatim constraint and selecting the closest matches given the absence of a direct \"Mining Machinery Manufacturing\" label.', 'Plastic Manufacturing, Waste Management Services, Textile Manufacturing Services', 'Catering Services,Event Planning Services,Travel Services', 'Bakery Production Services, Confectionery Manufacturing, E-Commerce Services', 'Building Cleaning Services, Pharmaceutical Manufacturing, Property Management Services', 'Furniture Manufacturing, Trim Manufacturing, Accessory Manufacturing', 'Community Engagement Services, Event Planning Services, Social Media Services', 'Travel Services, Advertising Services, Street Cleaning Operations', 'Travel Services, Insurance Services, Financial Services', 'Crisis Management Services, Community Engagement Services, Stakeholder Services', 'HVAC Installation and Service, Commercial Electrical Services, Commercial Plumbing Services', 'Asphalt Production Services, Chemical Manufacturing, Plastic Manufacturing', 'Cable Installation Services, Commercial Communication Equipment Installation, Training Services', 'Pipeline Construction Services, Compliance Services, Project Management Services', 'Painting Services, Restoration Services, Welding Services', 'Tree Services - Pruning / Removal, Food Processing Services, Training Services', 'Publishing Services, Media Production Services, Content Creation Services', 'Non-Structural Steel Fabrication, Sheet Metal Services, Welding Services', 'E-Commerce Services, Confectionery Manufacturing, Bakery Production Services', 'Publishing Services, Technology Consulting, Event Planning Services', 'Seed Processing Services, Grain Processing Services, Food Processing Services', 'Risk Assessment Services, Fire Protection System Services, Testing and Inspection Services', 'Wood Product Manufacturing, Furniture Manufacturing, Carpentry Services', 'Livestock Dealer Services, Pet Boarding Services, Animal Training Services', 'E-Commerce Services, Website Development Services, Online Marketing Services', 'Electric Line Construction, Industrial Machinery Installation, Commercial Electrical Services', 'Event Planning Services, Training Services, Business Development Services', 'Residential Communication Equipment Installation, Commercial Communication Equipment Installation, E-Commerce Services', 'Agricultural Equipment Services, Compliance Services, Technology Consulting', 'Travel Services, Financial Services, Project Management Services', 'HVAC Installation and Service, Industrial Machinery Installation, Health and Safety Consulting', 'Bakery Production Services, Confectionery Manufacturing, Printing Services', 'Mobile Home Construction Services, Residential Electrical Services, Residential Plumbing Services', 'Media Production Services, Publishing Services, E-Commerce Services', 'Printing Services, Consulting Services, Ink Production Services', 'Non-Profit Management, Community Engagement Services, Project Management Services', 'Industrial Transportation Services, Wood Product Manufacturing, Timber Harvesting Operations', 'Software Manufacturing, Website Development Services, SEO Services', 'Distilling Services, Brewery Operations, Food Processing Services', 'Management Consulting, Technology Consulting, Marketing Services', 'Confectionery Manufacturing, Bakery Production Services, Distilling Services', 'Human Resources Services, Management Consulting, Legal Services', 'Non-Structural Steel Fabrication, Sheet Metal Services, Plastic Manufacturing', 'Livestock Dealer Services, Meat Processing Services, Food Processing Services'])"
      ]
     },
     "execution_count": 42,
     "metadata": {},
     "output_type": "execute_result"
    }
   ],
   "execution_count": 42
  },
  {
   "metadata": {
    "jupyter": {
     "is_executing": true
    }
   },
   "cell_type": "code",
   "source": [
    "indices_to_val = [4335, 7910, 7758, 3050, 2614, 4382, 2676, 5599, 164, 3263]\n",
    "gemini_predictions = pd.DataFrame(columns=[\"index\", \"predicted\"])\n",
    "for i in indices_to_val:\n",
    "    text, response = classify_company(i)\n",
    "\n",
    "    # facem response de forma unei liste\n",
    "    gemini_predictions = pd.concat([gemini_predictions, pd.DataFrame({\"index\": [i], \"predicted\": [response] })], ignore_index=True)\n",
    "    if i % 10 == 0 and i > 0:\n",
    "        print(f\"Classified {i} companies\")"
   ],
   "id": "db753b5aaf8981ef",
   "outputs": [],
   "execution_count": null
  },
  {
   "metadata": {
    "ExecuteTime": {
     "end_time": "2025-10-16T15:25:41.565593Z",
     "start_time": "2025-10-16T15:25:40.692460Z"
    }
   },
   "cell_type": "code",
   "source": "",
   "id": "322cb2c41e99df76",
   "outputs": [
    {
     "data": {
      "text/plain": [
       "  index                                          predicted\n",
       "0  4335  Empty DataFrame\n",
       "Columns: [index, predicted]\n",
       "In...\n",
       "1  7910    index                                       ...\n",
       "2  7758    index                                       ...\n",
       "3  3050    index                                       ...\n",
       "4  2614    index                                       ...\n",
       "5  4382    index                                       ...\n",
       "6  2676    index                                       ...\n",
       "7  5599    index                                       ...\n",
       "8   164    index                                       ...\n",
       "9  3263    index                                       ..."
      ],
      "text/html": [
       "<div>\n",
       "<style scoped>\n",
       "    .dataframe tbody tr th:only-of-type {\n",
       "        vertical-align: middle;\n",
       "    }\n",
       "\n",
       "    .dataframe tbody tr th {\n",
       "        vertical-align: top;\n",
       "    }\n",
       "\n",
       "    .dataframe thead th {\n",
       "        text-align: right;\n",
       "    }\n",
       "</style>\n",
       "<table border=\"1\" class=\"dataframe\">\n",
       "  <thead>\n",
       "    <tr style=\"text-align: right;\">\n",
       "      <th></th>\n",
       "      <th>index</th>\n",
       "      <th>predicted</th>\n",
       "    </tr>\n",
       "  </thead>\n",
       "  <tbody>\n",
       "    <tr>\n",
       "      <th>0</th>\n",
       "      <td>4335</td>\n",
       "      <td>Empty DataFrame\n",
       "Columns: [index, predicted]\n",
       "In...</td>\n",
       "    </tr>\n",
       "    <tr>\n",
       "      <th>1</th>\n",
       "      <td>7910</td>\n",
       "      <td>index                                       ...</td>\n",
       "    </tr>\n",
       "    <tr>\n",
       "      <th>2</th>\n",
       "      <td>7758</td>\n",
       "      <td>index                                       ...</td>\n",
       "    </tr>\n",
       "    <tr>\n",
       "      <th>3</th>\n",
       "      <td>3050</td>\n",
       "      <td>index                                       ...</td>\n",
       "    </tr>\n",
       "    <tr>\n",
       "      <th>4</th>\n",
       "      <td>2614</td>\n",
       "      <td>index                                       ...</td>\n",
       "    </tr>\n",
       "    <tr>\n",
       "      <th>5</th>\n",
       "      <td>4382</td>\n",
       "      <td>index                                       ...</td>\n",
       "    </tr>\n",
       "    <tr>\n",
       "      <th>6</th>\n",
       "      <td>2676</td>\n",
       "      <td>index                                       ...</td>\n",
       "    </tr>\n",
       "    <tr>\n",
       "      <th>7</th>\n",
       "      <td>5599</td>\n",
       "      <td>index                                       ...</td>\n",
       "    </tr>\n",
       "    <tr>\n",
       "      <th>8</th>\n",
       "      <td>164</td>\n",
       "      <td>index                                       ...</td>\n",
       "    </tr>\n",
       "    <tr>\n",
       "      <th>9</th>\n",
       "      <td>3263</td>\n",
       "      <td>index                                       ...</td>\n",
       "    </tr>\n",
       "  </tbody>\n",
       "</table>\n",
       "</div>"
      ]
     },
     "execution_count": 13,
     "metadata": {},
     "output_type": "execute_result"
    }
   ],
   "execution_count": 13
  }
 ],
 "metadata": {
  "kernelspec": {
   "display_name": "Python 3",
   "language": "python",
   "name": "python3"
  },
  "language_info": {
   "codemirror_mode": {
    "name": "ipython",
    "version": 2
   },
   "file_extension": ".py",
   "mimetype": "text/x-python",
   "name": "python",
   "nbconvert_exporter": "python",
   "pygments_lexer": "ipython2",
   "version": "2.7.6"
  }
 },
 "nbformat": 4,
 "nbformat_minor": 5
}
