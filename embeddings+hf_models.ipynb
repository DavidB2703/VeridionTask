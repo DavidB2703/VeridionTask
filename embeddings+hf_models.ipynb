{
 "cells": [
  {
   "metadata": {
    "ExecuteTime": {
     "end_time": "2025-10-16T15:59:43.061978Z",
     "start_time": "2025-10-16T15:59:40.187009Z"
    }
   },
   "cell_type": "code",
   "source": [
    "import pandas as pd\n",
    "import torch\n",
    "\n",
    "data = pd.read_csv('data/ml_insurance_challenge.csv')\n",
    "labels = pd.read_csv('data/insurance_taxonomy - insurance_taxonomy.csv')\n",
    "print(data.shape)\n",
    "print(labels.shape)"
   ],
   "id": "640f07ee9a89c49",
   "outputs": [
    {
     "name": "stdout",
     "output_type": "stream",
     "text": [
      "(9494, 5)\n",
      "(220, 1)\n"
     ]
    }
   ],
   "execution_count": 1
  },
  {
   "metadata": {
    "ExecuteTime": {
     "end_time": "2025-10-16T16:00:17.623803Z",
     "start_time": "2025-10-16T15:59:45.217740Z"
    }
   },
   "cell_type": "code",
   "source": [
    "candidate_labels = labels['label'].tolist()\n",
    "\n",
    "from sentence_transformers import SentenceTransformer, util\n",
    "\n",
    "model = SentenceTransformer(\"intfloat/multilingual-e5-base\", device=\"cuda:0\")\n",
    "embeddings_labels = model.encode(candidate_labels, convert_to_tensor=True)"
   ],
   "id": "2385347d47a4ab14",
   "outputs": [],
   "execution_count": 2
  },
  {
   "cell_type": "code",
   "id": "initial_id",
   "metadata": {
    "collapsed": true,
    "ExecuteTime": {
     "end_time": "2025-10-16T16:00:24.132616Z",
     "start_time": "2025-10-16T16:00:24.038796Z"
    }
   },
   "source": [
    "import re\n",
    "from html import unescape\n",
    "\n",
    "\n",
    "def soft_clean(s: str) -> str:\n",
    "    if not s:\n",
    "        return \"\"\n",
    "    s = unescape(s)  # decode HTML entities\n",
    "    s = re.sub(r'https?://\\S+', '<URL>', s)\n",
    "    s = re.sub(r'\\S+@\\S+', '<EMAIL>', s)\n",
    "    # înlocuiește doar multiplele spații, fără a atinge newline-urile\n",
    "    s = re.sub(r'[ \\t]+', ' ', s)\n",
    "    # normalizează liniile multiple: mai mult de 2 -> doar 2\n",
    "    s = re.sub(r'\\n{3,}', '\\n\\n', s)\n",
    "    # curăță spații la capete de linii\n",
    "    s = re.sub(r' *\\n *', '\\n', s)\n",
    "    return s.strip()\n",
    "\n",
    "text = ''\n",
    "text += \"This is a detailed company profile\\n\"\n",
    "for index, column in enumerate(data.iloc[0]):\n",
    "    # dacă e listă de stringuri în formă text (ex: \"['a','b','c']\")\n",
    "    if isinstance(column, str) and column.startswith('[') and column.endswith(']'):\n",
    "        items = column[1:-1].split(',')\n",
    "        text += \"Business Tags: \"\n",
    "        for item in items:\n",
    "            text += f\"{item.strip().strip('\\\"').strip('\\'')}, \"  # eliminăm spații și ghilimele\n",
    "        text = text[:-2] + '\\n'  # scoate ultima virgulă, adaugă newline\n",
    "\n",
    "    else:\n",
    "        text += f\"{data.columns[index].capitalize()}: {column}\\n\"\n",
    "\n",
    "text = soft_clean(text)\n",
    "sentence_to_classify = text\n",
    "print(sentence_to_classify)\n",
    "\n",
    "#print(candidate_labels)\n",
    "embeddings_company = model.encode(sentence_to_classify, convert_to_tensor=True)\n",
    "\n",
    "# similaritate cosinus\n",
    "scores = util.cos_sim(embeddings_company, embeddings_labels)\n",
    "# print top 5 scorres\n",
    "\n",
    "top5 = torch.topk(scores, k=10)\n",
    "# printam label si scor\n",
    "top_labels = []\n",
    "for score, idx in zip(top5.values[0], top5.indices[0]):\n",
    "    print(f\"Label: {candidate_labels[idx]}, Score: {score.item():.4f}\")\n",
    "    top_labels.append(candidate_labels[idx])"
   ],
   "outputs": [
    {
     "name": "stdout",
     "output_type": "stream",
     "text": [
      "This is a detailed company profile\n",
      "Description: Welchcivils is a civil engineering and construction company that specializes in designing and building utility network connections across the UK. They offer multi-utility solutions that combine electricity, gas, water, and fibre optic installation into a single contract. Their design engineer teams are capable of designing electricity, water and gas networks from existing network connection points to meter locations at the development, as well as project management of reinforcements and diversions. They provide custom connection solutions that take into account any existing assets, maximize the usage of every trench, and meet project deadlines. Welchcivils has considerable expertise installing gas and electricity connections in a variety of market categories, including residential, commercial, and industrial projects, as as well.\n",
      "Business Tags: Construction Services, Multi-utilities, Utility Network Connections Design and Construction, Water Connection Installation, Multi-utility Connections, Fiber Optic Installation\n",
      "Sector: Services\n",
      "Category: Civil Engineering Services\n",
      "Niche: Other Heavy and Civil Engineering Construction\n",
      "Label: Pipeline Construction Services, Score: 0.8251\n",
      "Label: Fencing Construction Services, Score: 0.8203\n",
      "Label: Welding Services, Score: 0.8196\n",
      "Label: Field Welding Services, Score: 0.8191\n",
      "Label: Commercial Construction Services, Score: 0.8183\n",
      "Label: Cable Installation Services, Score: 0.8182\n",
      "Label: Gas Installation Services, Score: 0.8153\n",
      "Label: Multi-Family Construction Services, Score: 0.8148\n",
      "Label: Commercial Electrical Services, Score: 0.8146\n",
      "Label: Medical Gas Installation Services, Score: 0.8121\n"
     ]
    }
   ],
   "execution_count": 3
  },
  {
   "metadata": {
    "ExecuteTime": {
     "end_time": "2025-10-16T16:00:36.282504Z",
     "start_time": "2025-10-16T16:00:33.950296Z"
    }
   },
   "cell_type": "code",
   "source": [
    "from transformers import pipeline\n",
    "classifier = pipeline(\"zero-shot-classification\",\n",
    "                      model=\"facebook/bart-large-mnli\")"
   ],
   "id": "52e88418050e09ff",
   "outputs": [
    {
     "name": "stderr",
     "output_type": "stream",
     "text": [
      "Device set to use cuda:0\n"
     ]
    }
   ],
   "execution_count": 4
  },
  {
   "metadata": {
    "ExecuteTime": {
     "end_time": "2025-10-16T16:00:38.125891Z",
     "start_time": "2025-10-16T16:00:37.189329Z"
    }
   },
   "cell_type": "code",
   "source": "classifier(sentence_to_classify, top_labels, multi_label=True)",
   "id": "4e6187908e707a52",
   "outputs": [
    {
     "data": {
      "text/plain": [
       "{'sequence': 'This is a detailed company profile\\nDescription: Welchcivils is a civil engineering and construction company that specializes in designing and building utility network connections across the UK. They offer multi-utility solutions that combine electricity, gas, water, and fibre optic installation into a single contract. Their design engineer teams are capable of designing electricity, water and gas networks from existing network connection points to meter locations at the development, as well as project management of reinforcements and diversions. They provide custom connection solutions that take into account any existing assets, maximize the usage of every trench, and meet project deadlines. Welchcivils has considerable expertise installing gas and electricity connections in a variety of market categories, including residential, commercial, and industrial projects, as as well.\\nBusiness Tags: Construction Services, Multi-utilities, Utility Network Connections Design and Construction, Water Connection Installation, Multi-utility Connections, Fiber Optic Installation\\nSector: Services\\nCategory: Civil Engineering Services\\nNiche: Other Heavy and Civil Engineering Construction',\n",
       " 'labels': ['Gas Installation Services',\n",
       "  'Commercial Construction Services',\n",
       "  'Commercial Electrical Services',\n",
       "  'Fencing Construction Services',\n",
       "  'Multi-Family Construction Services',\n",
       "  'Medical Gas Installation Services',\n",
       "  'Pipeline Construction Services',\n",
       "  'Cable Installation Services',\n",
       "  'Field Welding Services',\n",
       "  'Welding Services'],\n",
       " 'scores': [0.5852519273757935,\n",
       "  0.41507694125175476,\n",
       "  0.2126903384923935,\n",
       "  0.17128147184848785,\n",
       "  0.09954606741666794,\n",
       "  0.08687080442905426,\n",
       "  0.06552103161811829,\n",
       "  0.04288936033844948,\n",
       "  0.026712188497185707,\n",
       "  0.01904253661632538]}"
      ]
     },
     "execution_count": 5,
     "metadata": {},
     "output_type": "execute_result"
    }
   ],
   "execution_count": 5
  },
  {
   "metadata": {
    "ExecuteTime": {
     "end_time": "2025-10-16T16:00:42.409196Z",
     "start_time": "2025-10-16T16:00:42.401Z"
    }
   },
   "cell_type": "code",
   "source": [
    "def classify_company_emb_zs(index):\n",
    "    text = ''\n",
    "    text += \"This is a detailed company profile\\n\"\n",
    "    for index, column in enumerate(data.iloc[index]):\n",
    "        # dacă e listă de stringuri în formă text (ex: \"['a','b','c']\")\n",
    "        if isinstance(column, str) and column.startswith('[') and column.endswith(']'):\n",
    "            items = column[1:-1].split(',')\n",
    "            text += \"Business Tags: \"\n",
    "            for item in items:\n",
    "                text += f\"{item.strip().strip('\\\"').strip('\\'')}, \"  # eliminăm spații și ghilimele\n",
    "            text = text[:-2] + '\\n'  # scoate ultima virgulă, adaugă newline\n",
    "\n",
    "        else:\n",
    "            text += f\"{data.columns[index].capitalize()}: {column}\\n\"\n",
    "\n",
    "    text = soft_clean(text)\n",
    "    sentence_to_classify = text\n",
    "    #print(sentence_to_classify)\n",
    "\n",
    "    #print(candidate_labels)\n",
    "    embeddings_company = model.encode(sentence_to_classify, convert_to_tensor=True)\n",
    "\n",
    "    # similaritate cosinus\n",
    "    scores = util.cos_sim(embeddings_company, embeddings_labels)\n",
    "    # print top 5 scorres\n",
    "\n",
    "    top5 = torch.topk(scores, k=10)\n",
    "    # printam label si scor\n",
    "    top_labels = []\n",
    "    for score, idx in zip(top5.values[0], top5.indices[0]):\n",
    "        #print(f\"Label: {candidate_labels[idx]}, Score: {score.item():.4f}\")\n",
    "        top_labels.append(candidate_labels[idx])\n",
    "\n",
    "    result = classifier(sentence_to_classify, top_labels, multi_label=True)\n",
    "\n",
    "    return result['labels'][:3]"
   ],
   "id": "1adae383544b058e",
   "outputs": [],
   "execution_count": 6
  },
  {
   "metadata": {
    "ExecuteTime": {
     "end_time": "2025-10-16T16:00:45.769799Z",
     "start_time": "2025-10-16T16:00:44.733184Z"
    }
   },
   "cell_type": "code",
   "source": "classify_company_emb_zs(0)",
   "id": "4ab3da6350150777",
   "outputs": [
    {
     "data": {
      "text/plain": [
       "['Gas Installation Services',\n",
       " 'Commercial Construction Services',\n",
       " 'Commercial Electrical Services']"
      ]
     },
     "execution_count": 7,
     "metadata": {},
     "output_type": "execute_result"
    }
   ],
   "execution_count": 7
  },
  {
   "metadata": {
    "ExecuteTime": {
     "end_time": "2025-10-16T12:35:47.334254Z",
     "start_time": "2025-10-16T12:35:05.819209Z"
    }
   },
   "cell_type": "code",
   "source": [
    "# gt = pd.read_csv('data/handmade_gt_10.csv')\n",
    "# indexes  = gt['index'].to_list()\n",
    "# predictions = pd.DataFrame(columns=[\"index\", \"predicted\"])\n",
    "# for index in indexes:\n",
    "#     print(f\"Index: {index}\")\n",
    "#     prediction = classify_company_emb_zs(index)\n",
    "#     print(f\"Predicted: {prediction}\")\n",
    "#\n",
    "#     predictions = pd.concat([predictions, pd.DataFrame({\"index\": [index], \"predicted\": [prediction] })], ignore_index=True)\n",
    "#\n",
    "#     print(f\"Ground truth: {gt[gt['index']==index]['labels'].values[0]}\")\n",
    "#     print(\"--------------------------------------------------\")"
   ],
   "id": "b14cdf9d8fd8552",
   "outputs": [
    {
     "name": "stdout",
     "output_type": "stream",
     "text": [
      "Index: 4335\n",
      "Predicted: ['Residential Roofing Services', 'Roofing Services with Heat Application', 'Cable Installation Services']\n",
      "Ground truth: ['Residential Roofing Services', 'Roofing Services with Heat Application', 'Waterproofing Services']\n",
      "--------------------------------------------------\n",
      "Index: 7910\n",
      "Predicted: ['Accessory Manufacturing', 'Bedding Manufacturing', 'Textile Manufacturing Services']\n",
      "Ground truth: ['Accessory Manufacturing', 'Apparel Manufacturing', 'Textile Manufacturing Services']\n",
      "--------------------------------------------------\n",
      "Index: 7758\n",
      "Predicted: ['Real Estate Services', 'Testing and Inspection Services', 'HVAC Inspections']\n",
      "Ground truth: ['Testing and Inspection Services', 'Building Cleaning Services', 'Real Estate Services']\n",
      "--------------------------------------------------\n",
      "Index: 3050\n",
      "Predicted: ['Laboratory Services', 'Health Promotion Services', 'Occupational Health Services']\n",
      "Ground truth: ['Laboratory Services', 'Health Promotion Services', 'Occupational Health Services']\n",
      "--------------------------------------------------\n",
      "Index: 2614\n",
      "Predicted: ['Meat Processing Services', 'Frozen Food Processing', 'Food Processing Services']\n",
      "Ground truth: ['Meat Processing Services', 'Food Processing Services', 'Frozen Food Processing']\n",
      "--------------------------------------------------\n",
      "Index: 4382\n",
      "Predicted: ['Property Management Services', 'Real Estate Services', 'Community Engagement Services']\n",
      "Ground truth: ['Property Management Services', 'Real Estate Services', 'Community Engagement Services']\n",
      "--------------------------------------------------\n",
      "Index: 2676\n",
      "Predicted: ['Human Resources Services', 'Consulting Services', 'Stakeholder Services']\n",
      "Ground truth: ['Human Resources Services', 'Management Consulting', 'Compliance Services']\n",
      "--------------------------------------------------\n",
      "Index: 5599\n",
      "Predicted: ['SEO Services', 'Physical Therapy Services', 'Occupational Health Services']\n",
      "Ground truth: ['Physical Therapy Services', 'Health Promotion Services', 'Occupational Health Services']\n",
      "--------------------------------------------------\n",
      "Index: 164\n",
      "Predicted: ['Agricultural Equipment Services', 'Soil Nutrient Application Services', 'Seed Processing Services']\n",
      "Ground truth: ['Ornamental Plant Nurseries', 'Agricultural Equipment Services', 'Pesticide Application Services']\n",
      "--------------------------------------------------\n",
      "Index: 3263\n",
      "Predicted: ['Physical Therapy Services', 'Pharmaceutical Manufacturing', 'Chemical Manufacturing']\n",
      "Ground truth: ['Health Promotion Services', 'Physical Therapy Services', 'Occupational Health Services']\n",
      "--------------------------------------------------\n"
     ]
    }
   ],
   "execution_count": 45
  },
  {
   "metadata": {
    "ExecuteTime": {
     "end_time": "2025-10-16T12:42:49.251576Z",
     "start_time": "2025-10-16T12:42:49.245262Z"
    }
   },
   "cell_type": "code",
   "source": "# predictions.to_csv('data/predictions_emb_zs.csv', index=False)",
   "id": "b7d56c675e3daa1b",
   "outputs": [],
   "execution_count": 47
  },
  {
   "metadata": {
    "ExecuteTime": {
     "end_time": "2025-10-16T16:00:58.483968Z",
     "start_time": "2025-10-16T16:00:58.469976Z"
    }
   },
   "cell_type": "code",
   "source": [
    "data_copy = data.copy()\n",
    "data_copy['insurance_label'] = ''\n",
    "data_copy"
   ],
   "id": "fc9187f25f72ebe5",
   "outputs": [
    {
     "data": {
      "text/plain": [
       "                                            description  \\\n",
       "0     Welchcivils is a civil engineering and constru...   \n",
       "1     Kyoto Vegetable Specialists Uekamo, also known...   \n",
       "2     Loidholdhof Integrative Hofgemeinschaft is a c...   \n",
       "3     PATAGONIA Chapa Y Pintura is an auto body shop...   \n",
       "4     Stanica WODNA PTTK Swornegacie is a cultural e...   \n",
       "...                                                 ...   \n",
       "9489  Anhui Zhongxin Electric Co., Ltd. is a high-te...   \n",
       "9490  TP Material Co.,Ltd. is a company based in the...   \n",
       "9491  Aladiner Cherag is a company that offers a var...   \n",
       "9492  Candor Eeg is a medical care company located i...   \n",
       "9493  REKA Vertrieb Deutschland is a company based i...   \n",
       "\n",
       "                                          business_tags         sector  \\\n",
       "0     ['Construction Services', 'Multi-utilities', '...       Services   \n",
       "1     ['Wholesale', 'Dual-task Movement Products', '...  Manufacturing   \n",
       "2     ['Living Forms', 'Farm Cafe', 'Fresh Coffee', ...  Manufacturing   \n",
       "3     ['Automotive Body Repair Services', 'Interior ...       Services   \n",
       "4     ['Cultural Activities', 'Accommodation Service...       Services   \n",
       "...                                                 ...            ...   \n",
       "9489  ['Automation Equipment', 'Technical Consulting...  Manufacturing   \n",
       "9490  ['Construction Materials Supplier', 'Construct...       Services   \n",
       "9491  ['Fruit And Vegetables', 'Hand Wash Products',...  Manufacturing   \n",
       "9492  ['Stress Tests', 'Hyperventilation', 'Holter M...       Services   \n",
       "9493  ['Cleaning Equipment Supplier', 'Retail', 'Mic...      Wholesale   \n",
       "\n",
       "                                  category  \\\n",
       "0               Civil Engineering Services   \n",
       "1     Fruit & Vegetable - Markets & Stores   \n",
       "2           Farms & Agriculture Production   \n",
       "3                          Auto Body Shops   \n",
       "4                     Boat Tours & Cruises   \n",
       "...                                    ...   \n",
       "9489  Electric Supplies & Power Generation   \n",
       "9490                 Construction Services   \n",
       "9491       Dairy Products - Farms & Stores   \n",
       "9492                      Radiology Clinic   \n",
       "9493         Cleaning Equipment & Supplies   \n",
       "\n",
       "                                                  niche insurance_label  \n",
       "0        Other Heavy and Civil Engineering Construction                  \n",
       "1      Frozen Fruit, Juice, and Vegetable Manufacturing                  \n",
       "2                  All Other Miscellaneous Crop Farming                  \n",
       "3     Automotive Body, Paint, and Interior Repair an...                  \n",
       "4          Scenic and Sightseeing Transportation, Water                  \n",
       "...                                                 ...             ...  \n",
       "9489  All Other Miscellaneous Electrical Equipment a...                  \n",
       "9490  Commercial and Institutional Building Construc...                  \n",
       "9491                           Fluid Milk Manufacturing                  \n",
       "9492                         Diagnostic Imaging Centers                  \n",
       "9493  Service Establishment Equipment and Supplies M...                  \n",
       "\n",
       "[9494 rows x 6 columns]"
      ],
      "text/html": [
       "<div>\n",
       "<style scoped>\n",
       "    .dataframe tbody tr th:only-of-type {\n",
       "        vertical-align: middle;\n",
       "    }\n",
       "\n",
       "    .dataframe tbody tr th {\n",
       "        vertical-align: top;\n",
       "    }\n",
       "\n",
       "    .dataframe thead th {\n",
       "        text-align: right;\n",
       "    }\n",
       "</style>\n",
       "<table border=\"1\" class=\"dataframe\">\n",
       "  <thead>\n",
       "    <tr style=\"text-align: right;\">\n",
       "      <th></th>\n",
       "      <th>description</th>\n",
       "      <th>business_tags</th>\n",
       "      <th>sector</th>\n",
       "      <th>category</th>\n",
       "      <th>niche</th>\n",
       "      <th>insurance_label</th>\n",
       "    </tr>\n",
       "  </thead>\n",
       "  <tbody>\n",
       "    <tr>\n",
       "      <th>0</th>\n",
       "      <td>Welchcivils is a civil engineering and constru...</td>\n",
       "      <td>['Construction Services', 'Multi-utilities', '...</td>\n",
       "      <td>Services</td>\n",
       "      <td>Civil Engineering Services</td>\n",
       "      <td>Other Heavy and Civil Engineering Construction</td>\n",
       "      <td></td>\n",
       "    </tr>\n",
       "    <tr>\n",
       "      <th>1</th>\n",
       "      <td>Kyoto Vegetable Specialists Uekamo, also known...</td>\n",
       "      <td>['Wholesale', 'Dual-task Movement Products', '...</td>\n",
       "      <td>Manufacturing</td>\n",
       "      <td>Fruit &amp; Vegetable - Markets &amp; Stores</td>\n",
       "      <td>Frozen Fruit, Juice, and Vegetable Manufacturing</td>\n",
       "      <td></td>\n",
       "    </tr>\n",
       "    <tr>\n",
       "      <th>2</th>\n",
       "      <td>Loidholdhof Integrative Hofgemeinschaft is a c...</td>\n",
       "      <td>['Living Forms', 'Farm Cafe', 'Fresh Coffee', ...</td>\n",
       "      <td>Manufacturing</td>\n",
       "      <td>Farms &amp; Agriculture Production</td>\n",
       "      <td>All Other Miscellaneous Crop Farming</td>\n",
       "      <td></td>\n",
       "    </tr>\n",
       "    <tr>\n",
       "      <th>3</th>\n",
       "      <td>PATAGONIA Chapa Y Pintura is an auto body shop...</td>\n",
       "      <td>['Automotive Body Repair Services', 'Interior ...</td>\n",
       "      <td>Services</td>\n",
       "      <td>Auto Body Shops</td>\n",
       "      <td>Automotive Body, Paint, and Interior Repair an...</td>\n",
       "      <td></td>\n",
       "    </tr>\n",
       "    <tr>\n",
       "      <th>4</th>\n",
       "      <td>Stanica WODNA PTTK Swornegacie is a cultural e...</td>\n",
       "      <td>['Cultural Activities', 'Accommodation Service...</td>\n",
       "      <td>Services</td>\n",
       "      <td>Boat Tours &amp; Cruises</td>\n",
       "      <td>Scenic and Sightseeing Transportation, Water</td>\n",
       "      <td></td>\n",
       "    </tr>\n",
       "    <tr>\n",
       "      <th>...</th>\n",
       "      <td>...</td>\n",
       "      <td>...</td>\n",
       "      <td>...</td>\n",
       "      <td>...</td>\n",
       "      <td>...</td>\n",
       "      <td>...</td>\n",
       "    </tr>\n",
       "    <tr>\n",
       "      <th>9489</th>\n",
       "      <td>Anhui Zhongxin Electric Co., Ltd. is a high-te...</td>\n",
       "      <td>['Automation Equipment', 'Technical Consulting...</td>\n",
       "      <td>Manufacturing</td>\n",
       "      <td>Electric Supplies &amp; Power Generation</td>\n",
       "      <td>All Other Miscellaneous Electrical Equipment a...</td>\n",
       "      <td></td>\n",
       "    </tr>\n",
       "    <tr>\n",
       "      <th>9490</th>\n",
       "      <td>TP Material Co.,Ltd. is a company based in the...</td>\n",
       "      <td>['Construction Materials Supplier', 'Construct...</td>\n",
       "      <td>Services</td>\n",
       "      <td>Construction Services</td>\n",
       "      <td>Commercial and Institutional Building Construc...</td>\n",
       "      <td></td>\n",
       "    </tr>\n",
       "    <tr>\n",
       "      <th>9491</th>\n",
       "      <td>Aladiner Cherag is a company that offers a var...</td>\n",
       "      <td>['Fruit And Vegetables', 'Hand Wash Products',...</td>\n",
       "      <td>Manufacturing</td>\n",
       "      <td>Dairy Products - Farms &amp; Stores</td>\n",
       "      <td>Fluid Milk Manufacturing</td>\n",
       "      <td></td>\n",
       "    </tr>\n",
       "    <tr>\n",
       "      <th>9492</th>\n",
       "      <td>Candor Eeg is a medical care company located i...</td>\n",
       "      <td>['Stress Tests', 'Hyperventilation', 'Holter M...</td>\n",
       "      <td>Services</td>\n",
       "      <td>Radiology Clinic</td>\n",
       "      <td>Diagnostic Imaging Centers</td>\n",
       "      <td></td>\n",
       "    </tr>\n",
       "    <tr>\n",
       "      <th>9493</th>\n",
       "      <td>REKA Vertrieb Deutschland is a company based i...</td>\n",
       "      <td>['Cleaning Equipment Supplier', 'Retail', 'Mic...</td>\n",
       "      <td>Wholesale</td>\n",
       "      <td>Cleaning Equipment &amp; Supplies</td>\n",
       "      <td>Service Establishment Equipment and Supplies M...</td>\n",
       "      <td></td>\n",
       "    </tr>\n",
       "  </tbody>\n",
       "</table>\n",
       "<p>9494 rows × 6 columns</p>\n",
       "</div>"
      ]
     },
     "execution_count": 8,
     "metadata": {},
     "output_type": "execute_result"
    }
   ],
   "execution_count": 8
  },
  {
   "metadata": {
    "ExecuteTime": {
     "end_time": "2025-10-16T16:01:03.177589Z",
     "start_time": "2025-10-16T16:01:03.173662Z"
    }
   },
   "cell_type": "code",
   "source": "data_copy.shape",
   "id": "e2340873e53101fd",
   "outputs": [
    {
     "data": {
      "text/plain": [
       "(9494, 6)"
      ]
     },
     "execution_count": 9,
     "metadata": {},
     "output_type": "execute_result"
    }
   ],
   "execution_count": 9
  },
  {
   "metadata": {
    "ExecuteTime": {
     "end_time": "2025-10-16T16:09:02.212364Z",
     "start_time": "2025-10-16T16:06:28.284795Z"
    }
   },
   "cell_type": "code",
   "source": [
    "import ast\n",
    "\n",
    "for i in range(data.shape[0]):\n",
    "    prediction = classify_company_emb_zs(i)\n",
    "    prediction = ast.literal_eval(str(prediction))\n",
    "    text = ', '.join(prediction)\n",
    "    #print(text)\n",
    "    data_copy.loc[i, \"insurance_label\"] = text\n",
    "    if i % 100 == 0:\n",
    "        print(f\"Processed {i} records\")\n",
    "        # salvăm progresul\n",
    "        data_copy.to_csv('data/challenge_result.csv', index=False)"
   ],
   "id": "4deb60cff4e93c03",
   "outputs": [
    {
     "name": "stderr",
     "output_type": "stream",
     "text": [
      "You seem to be using the pipelines sequentially on GPU. In order to maximize efficiency please use a dataset\n"
     ]
    },
    {
     "name": "stdout",
     "output_type": "stream",
     "text": [
      "Processed 0 records\n",
      "Processed 100 records\n",
      "Processed 200 records\n"
     ]
    },
    {
     "ename": "KeyboardInterrupt",
     "evalue": "",
     "output_type": "error",
     "traceback": [
      "\u001B[31m---------------------------------------------------------------------------\u001B[39m",
      "\u001B[31mKeyboardInterrupt\u001B[39m                         Traceback (most recent call last)",
      "\u001B[36mCell\u001B[39m\u001B[36m \u001B[39m\u001B[32mIn[19]\u001B[39m\u001B[32m, line 4\u001B[39m\n\u001B[32m      1\u001B[39m \u001B[38;5;28;01mimport\u001B[39;00m\u001B[38;5;250m \u001B[39m\u001B[34;01mast\u001B[39;00m\n\u001B[32m      3\u001B[39m \u001B[38;5;28;01mfor\u001B[39;00m i \u001B[38;5;129;01min\u001B[39;00m \u001B[38;5;28mrange\u001B[39m(data.shape[\u001B[32m0\u001B[39m]):\n\u001B[32m----> \u001B[39m\u001B[32m4\u001B[39m     prediction = \u001B[43mclassify_company_emb_zs\u001B[49m\u001B[43m(\u001B[49m\u001B[43mi\u001B[49m\u001B[43m)\u001B[49m\n\u001B[32m      5\u001B[39m     prediction = ast.literal_eval(\u001B[38;5;28mstr\u001B[39m(prediction))\n\u001B[32m      6\u001B[39m     text = \u001B[33m'\u001B[39m\u001B[33m, \u001B[39m\u001B[33m'\u001B[39m.join(prediction)\n",
      "\u001B[36mCell\u001B[39m\u001B[36m \u001B[39m\u001B[32mIn[6]\u001B[39m\u001B[32m, line 34\u001B[39m, in \u001B[36mclassify_company_emb_zs\u001B[39m\u001B[34m(index)\u001B[39m\n\u001B[32m     30\u001B[39m \u001B[38;5;28;01mfor\u001B[39;00m score, idx \u001B[38;5;129;01min\u001B[39;00m \u001B[38;5;28mzip\u001B[39m(top5.values[\u001B[32m0\u001B[39m], top5.indices[\u001B[32m0\u001B[39m]):\n\u001B[32m     31\u001B[39m     \u001B[38;5;66;03m#print(f\"Label: {candidate_labels[idx]}, Score: {score.item():.4f}\")\u001B[39;00m\n\u001B[32m     32\u001B[39m     top_labels.append(candidate_labels[idx])\n\u001B[32m---> \u001B[39m\u001B[32m34\u001B[39m result = \u001B[43mclassifier\u001B[49m\u001B[43m(\u001B[49m\u001B[43msentence_to_classify\u001B[49m\u001B[43m,\u001B[49m\u001B[43m \u001B[49m\u001B[43mtop_labels\u001B[49m\u001B[43m,\u001B[49m\u001B[43m \u001B[49m\u001B[43mmulti_label\u001B[49m\u001B[43m=\u001B[49m\u001B[38;5;28;43;01mTrue\u001B[39;49;00m\u001B[43m)\u001B[49m\n\u001B[32m     35\u001B[39m \u001B[38;5;28;01mreturn\u001B[39;00m result[\u001B[33m'\u001B[39m\u001B[33mlabels\u001B[39m\u001B[33m'\u001B[39m][:\u001B[32m3\u001B[39m]\n",
      "\u001B[36mFile \u001B[39m\u001B[32m~\\AppData\\Local\\Programs\\Python\\Python313\\Lib\\site-packages\\transformers\\pipelines\\zero_shot_classification.py:209\u001B[39m, in \u001B[36mZeroShotClassificationPipeline.__call__\u001B[39m\u001B[34m(self, sequences, *args, **kwargs)\u001B[39m\n\u001B[32m    206\u001B[39m \u001B[38;5;28;01melse\u001B[39;00m:\n\u001B[32m    207\u001B[39m     \u001B[38;5;28;01mraise\u001B[39;00m \u001B[38;5;167;01mValueError\u001B[39;00m(\u001B[33mf\u001B[39m\u001B[33m\"\u001B[39m\u001B[33mUnable to understand extra arguments \u001B[39m\u001B[38;5;132;01m{\u001B[39;00margs\u001B[38;5;132;01m}\u001B[39;00m\u001B[33m\"\u001B[39m)\n\u001B[32m--> \u001B[39m\u001B[32m209\u001B[39m \u001B[38;5;28;01mreturn\u001B[39;00m \u001B[38;5;28;43msuper\u001B[39;49m\u001B[43m(\u001B[49m\u001B[43m)\u001B[49m\u001B[43m.\u001B[49m\u001B[34;43m__call__\u001B[39;49m\u001B[43m(\u001B[49m\u001B[43msequences\u001B[49m\u001B[43m,\u001B[49m\u001B[43m \u001B[49m\u001B[43m*\u001B[49m\u001B[43m*\u001B[49m\u001B[43mkwargs\u001B[49m\u001B[43m)\u001B[49m\n",
      "\u001B[36mFile \u001B[39m\u001B[32m~\\AppData\\Local\\Programs\\Python\\Python313\\Lib\\site-packages\\transformers\\pipelines\\base.py:1459\u001B[39m, in \u001B[36mPipeline.__call__\u001B[39m\u001B[34m(self, inputs, num_workers, batch_size, *args, **kwargs)\u001B[39m\n\u001B[32m   1457\u001B[39m     \u001B[38;5;28;01mreturn\u001B[39;00m \u001B[38;5;28mself\u001B[39m.iterate(inputs, preprocess_params, forward_params, postprocess_params)\n\u001B[32m   1458\u001B[39m \u001B[38;5;28;01melif\u001B[39;00m \u001B[38;5;28mself\u001B[39m.framework == \u001B[33m\"\u001B[39m\u001B[33mpt\u001B[39m\u001B[33m\"\u001B[39m \u001B[38;5;129;01mand\u001B[39;00m \u001B[38;5;28misinstance\u001B[39m(\u001B[38;5;28mself\u001B[39m, ChunkPipeline):\n\u001B[32m-> \u001B[39m\u001B[32m1459\u001B[39m     \u001B[38;5;28;01mreturn\u001B[39;00m \u001B[38;5;28;43mnext\u001B[39;49m\u001B[43m(\u001B[49m\n\u001B[32m   1460\u001B[39m \u001B[43m        \u001B[49m\u001B[38;5;28;43miter\u001B[39;49m\u001B[43m(\u001B[49m\n\u001B[32m   1461\u001B[39m \u001B[43m            \u001B[49m\u001B[38;5;28;43mself\u001B[39;49m\u001B[43m.\u001B[49m\u001B[43mget_iterator\u001B[49m\u001B[43m(\u001B[49m\n\u001B[32m   1462\u001B[39m \u001B[43m                \u001B[49m\u001B[43m[\u001B[49m\u001B[43minputs\u001B[49m\u001B[43m]\u001B[49m\u001B[43m,\u001B[49m\u001B[43m \u001B[49m\u001B[43mnum_workers\u001B[49m\u001B[43m,\u001B[49m\u001B[43m \u001B[49m\u001B[43mbatch_size\u001B[49m\u001B[43m,\u001B[49m\u001B[43m \u001B[49m\u001B[43mpreprocess_params\u001B[49m\u001B[43m,\u001B[49m\u001B[43m \u001B[49m\u001B[43mforward_params\u001B[49m\u001B[43m,\u001B[49m\u001B[43m \u001B[49m\u001B[43mpostprocess_params\u001B[49m\n\u001B[32m   1463\u001B[39m \u001B[43m            \u001B[49m\u001B[43m)\u001B[49m\n\u001B[32m   1464\u001B[39m \u001B[43m        \u001B[49m\u001B[43m)\u001B[49m\n\u001B[32m   1465\u001B[39m \u001B[43m    \u001B[49m\u001B[43m)\u001B[49m\n\u001B[32m   1466\u001B[39m \u001B[38;5;28;01melse\u001B[39;00m:\n\u001B[32m   1467\u001B[39m     \u001B[38;5;28;01mreturn\u001B[39;00m \u001B[38;5;28mself\u001B[39m.run_single(inputs, preprocess_params, forward_params, postprocess_params)\n",
      "\u001B[36mFile \u001B[39m\u001B[32m~\\AppData\\Local\\Programs\\Python\\Python313\\Lib\\site-packages\\transformers\\pipelines\\pt_utils.py:126\u001B[39m, in \u001B[36mPipelineIterator.__next__\u001B[39m\u001B[34m(self)\u001B[39m\n\u001B[32m    123\u001B[39m     \u001B[38;5;28;01mreturn\u001B[39;00m \u001B[38;5;28mself\u001B[39m.loader_batch_item()\n\u001B[32m    125\u001B[39m \u001B[38;5;66;03m# We're out of items within a batch\u001B[39;00m\n\u001B[32m--> \u001B[39m\u001B[32m126\u001B[39m item = \u001B[38;5;28;43mnext\u001B[39;49m\u001B[43m(\u001B[49m\u001B[38;5;28;43mself\u001B[39;49m\u001B[43m.\u001B[49m\u001B[43miterator\u001B[49m\u001B[43m)\u001B[49m\n\u001B[32m    127\u001B[39m processed = \u001B[38;5;28mself\u001B[39m.infer(item, **\u001B[38;5;28mself\u001B[39m.params)\n\u001B[32m    128\u001B[39m \u001B[38;5;66;03m# We now have a batch of \"inferred things\".\u001B[39;00m\n",
      "\u001B[36mFile \u001B[39m\u001B[32m~\\AppData\\Local\\Programs\\Python\\Python313\\Lib\\site-packages\\transformers\\pipelines\\pt_utils.py:271\u001B[39m, in \u001B[36mPipelinePackIterator.__next__\u001B[39m\u001B[34m(self)\u001B[39m\n\u001B[32m    268\u001B[39m             \u001B[38;5;28;01mreturn\u001B[39;00m accumulator\n\u001B[32m    270\u001B[39m \u001B[38;5;28;01mwhile\u001B[39;00m \u001B[38;5;129;01mnot\u001B[39;00m is_last:\n\u001B[32m--> \u001B[39m\u001B[32m271\u001B[39m     processed = \u001B[38;5;28;43mself\u001B[39;49m\u001B[43m.\u001B[49m\u001B[43minfer\u001B[49m\u001B[43m(\u001B[49m\u001B[38;5;28;43mnext\u001B[39;49m\u001B[43m(\u001B[49m\u001B[38;5;28;43mself\u001B[39;49m\u001B[43m.\u001B[49m\u001B[43miterator\u001B[49m\u001B[43m)\u001B[49m\u001B[43m,\u001B[49m\u001B[43m \u001B[49m\u001B[43m*\u001B[49m\u001B[43m*\u001B[49m\u001B[38;5;28;43mself\u001B[39;49m\u001B[43m.\u001B[49m\u001B[43mparams\u001B[49m\u001B[43m)\u001B[49m\n\u001B[32m    272\u001B[39m     \u001B[38;5;28;01mif\u001B[39;00m \u001B[38;5;28mself\u001B[39m.loader_batch_size \u001B[38;5;129;01mis\u001B[39;00m \u001B[38;5;129;01mnot\u001B[39;00m \u001B[38;5;28;01mNone\u001B[39;00m:\n\u001B[32m    273\u001B[39m         \u001B[38;5;28;01mif\u001B[39;00m \u001B[38;5;28misinstance\u001B[39m(processed, torch.Tensor):\n",
      "\u001B[36mFile \u001B[39m\u001B[32m~\\AppData\\Local\\Programs\\Python\\Python313\\Lib\\site-packages\\transformers\\pipelines\\base.py:1374\u001B[39m, in \u001B[36mPipeline.forward\u001B[39m\u001B[34m(self, model_inputs, **forward_params)\u001B[39m\n\u001B[32m   1372\u001B[39m     \u001B[38;5;28;01mwith\u001B[39;00m inference_context():\n\u001B[32m   1373\u001B[39m         model_inputs = \u001B[38;5;28mself\u001B[39m._ensure_tensor_on_device(model_inputs, device=\u001B[38;5;28mself\u001B[39m.device)\n\u001B[32m-> \u001B[39m\u001B[32m1374\u001B[39m         model_outputs = \u001B[38;5;28;43mself\u001B[39;49m\u001B[43m.\u001B[49m\u001B[43m_forward\u001B[49m\u001B[43m(\u001B[49m\u001B[43mmodel_inputs\u001B[49m\u001B[43m,\u001B[49m\u001B[43m \u001B[49m\u001B[43m*\u001B[49m\u001B[43m*\u001B[49m\u001B[43mforward_params\u001B[49m\u001B[43m)\u001B[49m\n\u001B[32m   1375\u001B[39m         model_outputs = \u001B[38;5;28mself\u001B[39m._ensure_tensor_on_device(model_outputs, device=torch.device(\u001B[33m\"\u001B[39m\u001B[33mcpu\u001B[39m\u001B[33m\"\u001B[39m))\n\u001B[32m   1376\u001B[39m \u001B[38;5;28;01melse\u001B[39;00m:\n",
      "\u001B[36mFile \u001B[39m\u001B[32m~\\AppData\\Local\\Programs\\Python\\Python313\\Lib\\site-packages\\transformers\\pipelines\\zero_shot_classification.py:232\u001B[39m, in \u001B[36mZeroShotClassificationPipeline._forward\u001B[39m\u001B[34m(self, inputs)\u001B[39m\n\u001B[32m    230\u001B[39m \u001B[38;5;28;01mif\u001B[39;00m \u001B[33m\"\u001B[39m\u001B[33muse_cache\u001B[39m\u001B[33m\"\u001B[39m \u001B[38;5;129;01min\u001B[39;00m inspect.signature(model_forward).parameters:\n\u001B[32m    231\u001B[39m     model_inputs[\u001B[33m\"\u001B[39m\u001B[33muse_cache\u001B[39m\u001B[33m\"\u001B[39m] = \u001B[38;5;28;01mFalse\u001B[39;00m\n\u001B[32m--> \u001B[39m\u001B[32m232\u001B[39m outputs = \u001B[38;5;28;43mself\u001B[39;49m\u001B[43m.\u001B[49m\u001B[43mmodel\u001B[49m\u001B[43m(\u001B[49m\u001B[43m*\u001B[49m\u001B[43m*\u001B[49m\u001B[43mmodel_inputs\u001B[49m\u001B[43m)\u001B[49m\n\u001B[32m    234\u001B[39m model_outputs = {\n\u001B[32m    235\u001B[39m     \u001B[33m\"\u001B[39m\u001B[33mcandidate_label\u001B[39m\u001B[33m\"\u001B[39m: candidate_label,\n\u001B[32m    236\u001B[39m     \u001B[33m\"\u001B[39m\u001B[33msequence\u001B[39m\u001B[33m\"\u001B[39m: sequence,\n\u001B[32m    237\u001B[39m     \u001B[33m\"\u001B[39m\u001B[33mis_last\u001B[39m\u001B[33m\"\u001B[39m: inputs[\u001B[33m\"\u001B[39m\u001B[33mis_last\u001B[39m\u001B[33m\"\u001B[39m],\n\u001B[32m    238\u001B[39m     **outputs,\n\u001B[32m    239\u001B[39m }\n\u001B[32m    240\u001B[39m \u001B[38;5;28;01mreturn\u001B[39;00m model_outputs\n",
      "\u001B[36mFile \u001B[39m\u001B[32m~\\AppData\\Local\\Programs\\Python\\Python313\\Lib\\site-packages\\torch\\nn\\modules\\module.py:1775\u001B[39m, in \u001B[36mModule._wrapped_call_impl\u001B[39m\u001B[34m(self, *args, **kwargs)\u001B[39m\n\u001B[32m   1773\u001B[39m     \u001B[38;5;28;01mreturn\u001B[39;00m \u001B[38;5;28mself\u001B[39m._compiled_call_impl(*args, **kwargs)  \u001B[38;5;66;03m# type: ignore[misc]\u001B[39;00m\n\u001B[32m   1774\u001B[39m \u001B[38;5;28;01melse\u001B[39;00m:\n\u001B[32m-> \u001B[39m\u001B[32m1775\u001B[39m     \u001B[38;5;28;01mreturn\u001B[39;00m \u001B[38;5;28;43mself\u001B[39;49m\u001B[43m.\u001B[49m\u001B[43m_call_impl\u001B[49m\u001B[43m(\u001B[49m\u001B[43m*\u001B[49m\u001B[43margs\u001B[49m\u001B[43m,\u001B[49m\u001B[43m \u001B[49m\u001B[43m*\u001B[49m\u001B[43m*\u001B[49m\u001B[43mkwargs\u001B[49m\u001B[43m)\u001B[49m\n",
      "\u001B[36mFile \u001B[39m\u001B[32m~\\AppData\\Local\\Programs\\Python\\Python313\\Lib\\site-packages\\torch\\nn\\modules\\module.py:1786\u001B[39m, in \u001B[36mModule._call_impl\u001B[39m\u001B[34m(self, *args, **kwargs)\u001B[39m\n\u001B[32m   1781\u001B[39m \u001B[38;5;66;03m# If we don't have any hooks, we want to skip the rest of the logic in\u001B[39;00m\n\u001B[32m   1782\u001B[39m \u001B[38;5;66;03m# this function, and just call forward.\u001B[39;00m\n\u001B[32m   1783\u001B[39m \u001B[38;5;28;01mif\u001B[39;00m \u001B[38;5;129;01mnot\u001B[39;00m (\u001B[38;5;28mself\u001B[39m._backward_hooks \u001B[38;5;129;01mor\u001B[39;00m \u001B[38;5;28mself\u001B[39m._backward_pre_hooks \u001B[38;5;129;01mor\u001B[39;00m \u001B[38;5;28mself\u001B[39m._forward_hooks \u001B[38;5;129;01mor\u001B[39;00m \u001B[38;5;28mself\u001B[39m._forward_pre_hooks\n\u001B[32m   1784\u001B[39m         \u001B[38;5;129;01mor\u001B[39;00m _global_backward_pre_hooks \u001B[38;5;129;01mor\u001B[39;00m _global_backward_hooks\n\u001B[32m   1785\u001B[39m         \u001B[38;5;129;01mor\u001B[39;00m _global_forward_hooks \u001B[38;5;129;01mor\u001B[39;00m _global_forward_pre_hooks):\n\u001B[32m-> \u001B[39m\u001B[32m1786\u001B[39m     \u001B[38;5;28;01mreturn\u001B[39;00m \u001B[43mforward_call\u001B[49m\u001B[43m(\u001B[49m\u001B[43m*\u001B[49m\u001B[43margs\u001B[49m\u001B[43m,\u001B[49m\u001B[43m \u001B[49m\u001B[43m*\u001B[49m\u001B[43m*\u001B[49m\u001B[43mkwargs\u001B[49m\u001B[43m)\u001B[49m\n\u001B[32m   1788\u001B[39m result = \u001B[38;5;28;01mNone\u001B[39;00m\n\u001B[32m   1789\u001B[39m called_always_called_hooks = \u001B[38;5;28mset\u001B[39m()\n",
      "\u001B[36mFile \u001B[39m\u001B[32m~\\AppData\\Local\\Programs\\Python\\Python313\\Lib\\site-packages\\transformers\\models\\bart\\modeling_bart.py:1624\u001B[39m, in \u001B[36mBartForSequenceClassification.forward\u001B[39m\u001B[34m(self, input_ids, attention_mask, decoder_input_ids, decoder_attention_mask, head_mask, decoder_head_mask, cross_attn_head_mask, encoder_outputs, inputs_embeds, decoder_inputs_embeds, labels, use_cache, output_attentions, output_hidden_states, return_dict, cache_position)\u001B[39m\n\u001B[32m   1620\u001B[39m hidden_states = outputs[\u001B[32m0\u001B[39m]  \u001B[38;5;66;03m# last hidden state\u001B[39;00m\n\u001B[32m   1622\u001B[39m eos_mask = input_ids.eq(\u001B[38;5;28mself\u001B[39m.config.eos_token_id).to(hidden_states.device)\n\u001B[32m-> \u001B[39m\u001B[32m1624\u001B[39m \u001B[38;5;28;01mif\u001B[39;00m \u001B[38;5;28mlen\u001B[39m(\u001B[43mtorch\u001B[49m\u001B[43m.\u001B[49m\u001B[43munique_consecutive\u001B[49m\u001B[43m(\u001B[49m\u001B[43meos_mask\u001B[49m\u001B[43m.\u001B[49m\u001B[43msum\u001B[49m\u001B[43m(\u001B[49m\u001B[32;43m1\u001B[39;49m\u001B[43m)\u001B[49m\u001B[43m)\u001B[49m) > \u001B[32m1\u001B[39m:\n\u001B[32m   1625\u001B[39m     \u001B[38;5;28;01mraise\u001B[39;00m \u001B[38;5;167;01mValueError\u001B[39;00m(\u001B[33m\"\u001B[39m\u001B[33mAll examples must have the same number of <eos> tokens.\u001B[39m\u001B[33m\"\u001B[39m)\n\u001B[32m   1626\u001B[39m sentence_representation = hidden_states[eos_mask, :].view(hidden_states.size(\u001B[32m0\u001B[39m), -\u001B[32m1\u001B[39m, hidden_states.size(-\u001B[32m1\u001B[39m))[\n\u001B[32m   1627\u001B[39m     :, -\u001B[32m1\u001B[39m, :\n\u001B[32m   1628\u001B[39m ]\n",
      "\u001B[36mFile \u001B[39m\u001B[32m~\\AppData\\Local\\Programs\\Python\\Python313\\Lib\\site-packages\\torch\\_jit_internal.py:627\u001B[39m, in \u001B[36mboolean_dispatch.<locals>.fn\u001B[39m\u001B[34m(*args, **kwargs)\u001B[39m\n\u001B[32m    625\u001B[39m     \u001B[38;5;28;01mreturn\u001B[39;00m if_true(*args, **kwargs)\n\u001B[32m    626\u001B[39m \u001B[38;5;28;01melse\u001B[39;00m:\n\u001B[32m--> \u001B[39m\u001B[32m627\u001B[39m     \u001B[38;5;28;01mreturn\u001B[39;00m \u001B[43mif_false\u001B[49m\u001B[43m(\u001B[49m\u001B[43m*\u001B[49m\u001B[43margs\u001B[49m\u001B[43m,\u001B[49m\u001B[43m \u001B[49m\u001B[43m*\u001B[49m\u001B[43m*\u001B[49m\u001B[43mkwargs\u001B[49m\u001B[43m)\u001B[49m\n",
      "\u001B[36mFile \u001B[39m\u001B[32m~\\AppData\\Local\\Programs\\Python\\Python313\\Lib\\site-packages\\torch\\_jit_internal.py:627\u001B[39m, in \u001B[36mboolean_dispatch.<locals>.fn\u001B[39m\u001B[34m(*args, **kwargs)\u001B[39m\n\u001B[32m    625\u001B[39m     \u001B[38;5;28;01mreturn\u001B[39;00m if_true(*args, **kwargs)\n\u001B[32m    626\u001B[39m \u001B[38;5;28;01melse\u001B[39;00m:\n\u001B[32m--> \u001B[39m\u001B[32m627\u001B[39m     \u001B[38;5;28;01mreturn\u001B[39;00m \u001B[43mif_false\u001B[49m\u001B[43m(\u001B[49m\u001B[43m*\u001B[49m\u001B[43margs\u001B[49m\u001B[43m,\u001B[49m\u001B[43m \u001B[49m\u001B[43m*\u001B[49m\u001B[43m*\u001B[49m\u001B[43mkwargs\u001B[49m\u001B[43m)\u001B[49m\n",
      "\u001B[36mFile \u001B[39m\u001B[32m~\\AppData\\Local\\Programs\\Python\\Python313\\Lib\\site-packages\\torch\\functional.py:1138\u001B[39m, in \u001B[36m_consecutive_return_output\u001B[39m\u001B[34m(input, return_inverse, return_counts, dim)\u001B[39m\n\u001B[32m   1135\u001B[39m \u001B[38;5;28;01mif\u001B[39;00m has_torch_function_unary(\u001B[38;5;28minput\u001B[39m):\n\u001B[32m   1136\u001B[39m     \u001B[38;5;28;01mreturn\u001B[39;00m _unique_consecutive_impl(\u001B[38;5;28minput\u001B[39m, return_inverse, return_counts, dim)\n\u001B[32m-> \u001B[39m\u001B[32m1138\u001B[39m output, _, _ = \u001B[43m_unique_consecutive_impl\u001B[49m\u001B[43m(\u001B[49m\u001B[38;5;28;43minput\u001B[39;49m\u001B[43m,\u001B[49m\u001B[43m \u001B[49m\u001B[43mreturn_inverse\u001B[49m\u001B[43m,\u001B[49m\u001B[43m \u001B[49m\u001B[43mreturn_counts\u001B[49m\u001B[43m,\u001B[49m\u001B[43m \u001B[49m\u001B[43mdim\u001B[49m\u001B[43m)\u001B[49m\n\u001B[32m   1139\u001B[39m \u001B[38;5;28;01mreturn\u001B[39;00m output\n",
      "\u001B[36mFile \u001B[39m\u001B[32m~\\AppData\\Local\\Programs\\Python\\Python313\\Lib\\site-packages\\torch\\functional.py:1019\u001B[39m, in \u001B[36m_unique_consecutive_impl\u001B[39m\u001B[34m(input, return_inverse, return_counts, dim)\u001B[39m\n\u001B[32m   1010\u001B[39m \u001B[38;5;28;01mif\u001B[39;00m has_torch_function_unary(\u001B[38;5;28minput\u001B[39m):\n\u001B[32m   1011\u001B[39m     \u001B[38;5;28;01mreturn\u001B[39;00m handle_torch_function(\n\u001B[32m   1012\u001B[39m         unique_consecutive,\n\u001B[32m   1013\u001B[39m         (\u001B[38;5;28minput\u001B[39m,),\n\u001B[32m   (...)\u001B[39m\u001B[32m   1017\u001B[39m         dim=dim,\n\u001B[32m   1018\u001B[39m     )\n\u001B[32m-> \u001B[39m\u001B[32m1019\u001B[39m output, inverse_indices, counts = \u001B[43m_VF\u001B[49m\u001B[43m.\u001B[49m\u001B[43munique_consecutive\u001B[49m\u001B[43m(\u001B[49m\u001B[43m  \u001B[49m\u001B[38;5;66;43;03m# type: ignore[attr-defined]\u001B[39;49;00m\n\u001B[32m   1020\u001B[39m \u001B[43m    \u001B[49m\u001B[38;5;28;43minput\u001B[39;49m\u001B[43m,\u001B[49m\u001B[43m \u001B[49m\u001B[43mreturn_inverse\u001B[49m\u001B[43m=\u001B[49m\u001B[43mreturn_inverse\u001B[49m\u001B[43m,\u001B[49m\u001B[43m \u001B[49m\u001B[43mreturn_counts\u001B[49m\u001B[43m=\u001B[49m\u001B[43mreturn_counts\u001B[49m\u001B[43m,\u001B[49m\u001B[43m \u001B[49m\u001B[43mdim\u001B[49m\u001B[43m=\u001B[49m\u001B[43mdim\u001B[49m\n\u001B[32m   1021\u001B[39m \u001B[43m\u001B[49m\u001B[43m)\u001B[49m\n\u001B[32m   1022\u001B[39m \u001B[38;5;28;01mreturn\u001B[39;00m output, inverse_indices, counts\n",
      "\u001B[31mKeyboardInterrupt\u001B[39m: "
     ]
    }
   ],
   "execution_count": 19
  },
  {
   "metadata": {
    "ExecuteTime": {
     "end_time": "2025-10-16T16:14:56.522142Z",
     "start_time": "2025-10-16T16:14:56.516831Z"
    }
   },
   "cell_type": "code",
   "source": [
    "def classify_companies_batch(indices, batch_size=8):\n",
    "    \"\"\"Procesează mai multe companii deodată\"\"\"\n",
    "    texts = []\n",
    "    for idx in indices:\n",
    "        text = 'This is a detailed company profile\\n'\n",
    "        for col_idx, column in enumerate(data.iloc[idx]):\n",
    "            if isinstance(column, str) and column.startswith('[') and column.endswith(']'):\n",
    "                items = column[1:-1].split(',')\n",
    "                text += \"Business Tags: \"\n",
    "                for item in items:\n",
    "                    text += f\"{item.strip().strip('\\\"').strip('\\'')}, \"\n",
    "                text = text[:-2] + '\\n'\n",
    "            else:\n",
    "                text += f\"{data.columns[col_idx].capitalize()}: {column}\\n\"\n",
    "        texts.append(soft_clean(text))\n",
    "\n",
    "    # Procesează toate textele în batch pentru embeddings\n",
    "    embeddings_companies = model.encode(texts, convert_to_tensor=True, batch_size=batch_size)\n",
    "\n",
    "    # Găsește top labels pentru fiecare text\n",
    "    all_top_labels = []\n",
    "    for emb in embeddings_companies:\n",
    "        scores = util.cos_sim(emb.unsqueeze(0), embeddings_labels)\n",
    "        top5 = torch.topk(scores, k=10)\n",
    "        top_labels = [candidate_labels[idx.item()] for idx in top5.indices[0]]\n",
    "        all_top_labels.append(top_labels)\n",
    "\n",
    "    # Clasificare individuală (pipeline-ul nu acceptă batch cu candidate_labels diferite)\n",
    "    results = []\n",
    "    for text, top_labels in zip(texts, all_top_labels):\n",
    "        classification = classifier(text, top_labels, multi_label=True)\n",
    "        results.append(classification['labels'][:3])\n",
    "\n",
    "    return results\n"
   ],
   "id": "bb534232a56b5f94",
   "outputs": [],
   "execution_count": 22
  },
  {
   "metadata": {
    "ExecuteTime": {
     "end_time": "2025-10-16T19:58:55.341001Z",
     "start_time": "2025-10-16T16:19:36.477727Z"
    }
   },
   "cell_type": "code",
   "source": [
    "batch_size = 16\n",
    "for start_idx in range(0, data.shape[0], batch_size):\n",
    "    end_idx = min(start_idx + batch_size, data.shape[0])\n",
    "    batch_indices = list(range(start_idx, end_idx))\n",
    "\n",
    "    predictions = classify_companies_batch(batch_indices, batch_size=batch_size)\n",
    "\n",
    "    for i, pred in zip(batch_indices, predictions):\n",
    "        text = ', '.join(pred)\n",
    "        data_copy.loc[i, \"insurance_label\"] = text\n",
    "\n",
    "    if start_idx % 512 == 0:\n",
    "        print(f\"Processed {start_idx} records\")\n",
    "        data_copy.to_csv('data/challenge_result_par.csv', index=False)"
   ],
   "id": "fc23c3be519a9716",
   "outputs": [
    {
     "name": "stdout",
     "output_type": "stream",
     "text": [
      "Processed 0 records\n",
      "Processed 512 records\n",
      "Processed 1024 records\n",
      "Processed 1536 records\n",
      "Processed 2048 records\n",
      "Processed 2560 records\n",
      "Processed 3072 records\n",
      "Processed 3584 records\n",
      "Processed 4096 records\n",
      "Processed 4608 records\n",
      "Processed 5120 records\n",
      "Processed 5632 records\n",
      "Processed 6144 records\n",
      "Processed 6656 records\n",
      "Processed 7168 records\n",
      "Processed 7680 records\n",
      "Processed 8192 records\n",
      "Processed 8704 records\n",
      "Processed 9216 records\n"
     ]
    }
   ],
   "execution_count": 31
  },
  {
   "metadata": {
    "ExecuteTime": {
     "end_time": "2025-10-17T02:27:45.601147Z",
     "start_time": "2025-10-17T02:27:45.235017Z"
    }
   },
   "cell_type": "code",
   "source": "data_copy.to_csv('data/challenge_result_par.csv', index=False)\n",
   "id": "685452cb4a899ef",
   "outputs": [],
   "execution_count": 32
  },
  {
   "metadata": {
    "ExecuteTime": {
     "end_time": "2025-10-17T10:40:32.742259Z",
     "start_time": "2025-10-17T10:40:32.672202Z"
    }
   },
   "cell_type": "code",
   "source": [
    "# randul 345 din data copy\n",
    "\n",
    "data_copy.iloc[4301]\n",
    "\n",
    "'''\n",
    "Wuhan Huaxi Airsprings Co., Ltd. is a Chinese company that specializes in the sale of metal products, including colored metal alloy, new metal functional materials, high-performance metal and alloy materials, metal tools, and hardware products. The company also engages in wholesale and retailing of hardware products, with a focus on non-permanent and limited-liability projects that comply with self-employment laws. Huaxin Airsprays Co., Limited, the parent company, has been committed to continuously improving its product services and promoting innovation in the industry since its establishment, and has attracted the attention and cooperation of many international well-known suppliers. The main products offered by the company include metal tools and hardware tools.\n",
    "'''"
   ],
   "id": "e3537ebce2a1857",
   "outputs": [
    {
     "data": {
      "text/plain": [
       "description        Wuhan Huaxi Airsprings Co., Ltd. is a Chinese ...\n",
       "business_tags      ['Metal Tooling Sales Services Services', 'Sal...\n",
       "sector                                                 Manufacturing\n",
       "category                                                Scrap Metals\n",
       "niche              Nonferrous Metal (except Copper and Aluminum) ...\n",
       "insurance_label    Non-Structural Steel Fabrication, Sheet Metal ...\n",
       "Name: 4301, dtype: object"
      ]
     },
     "execution_count": 37,
     "metadata": {},
     "output_type": "execute_result"
    }
   ],
   "execution_count": 37
  }
 ],
 "metadata": {
  "kernelspec": {
   "display_name": "Python 3",
   "language": "python",
   "name": "python3"
  },
  "language_info": {
   "codemirror_mode": {
    "name": "ipython",
    "version": 2
   },
   "file_extension": ".py",
   "mimetype": "text/x-python",
   "name": "python",
   "nbconvert_exporter": "python",
   "pygments_lexer": "ipython2",
   "version": "2.7.6"
  }
 },
 "nbformat": 4,
 "nbformat_minor": 5
}
